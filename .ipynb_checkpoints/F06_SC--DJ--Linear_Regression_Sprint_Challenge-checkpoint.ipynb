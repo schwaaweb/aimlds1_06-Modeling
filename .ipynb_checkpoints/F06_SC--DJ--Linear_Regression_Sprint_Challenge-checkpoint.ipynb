{
 "cells": [
  {
   "cell_type": "markdown",
   "metadata": {
    "colab_type": "text",
    "id": "view-in-github"
   },
   "source": [
    "[View in Colaboratory](https://colab.research.google.com/github/schwaaweb/aimlds1_06-TheMachineLearningFramework/blob/master/F06_SC--DJ--Linear_Regression_Sprint_Challenge.ipynb)"
   ]
  },
  {
   "cell_type": "markdown",
   "metadata": {
    "colab_type": "text",
    "id": "aD8Yb0P8D04e"
   },
   "source": [
    "# Linear Regression Sprint Challenge\n",
    "\n",
    "Objectives:\n",
    "* Linear regression: the simplest ML model\n",
    "* Use gradient descent to compute LR\n",
    "* Predict a vertex v_i\n",
    "* Use the matrix form to compute linear regression"
   ]
  },
  {
   "cell_type": "code",
   "execution_count": null,
   "metadata": {
    "colab": {},
    "colab_type": "code",
    "id": "YP55JnJGEXWN"
   },
   "outputs": [],
   "source": [
    "# Linear Regression is the simplest ML model because:"
   ]
  },
  {
   "cell_type": "markdown",
   "metadata": {
    "colab_type": "text",
    "id": "aq9MJvtTE6lY"
   },
   "source": [
    "### 2. Compute Linear Regression Model\n",
    "\n",
    "Use sklearn.linear_model.LogisticRegression to calculate the linear least-squares best fit minimizing $\\sum{(w_0x + w_1)-y)^2}$."
   ]
  },
  {
   "cell_type": "code",
   "execution_count": 63,
   "metadata": {
    "colab": {},
    "colab_type": "code",
    "id": "I8nqyUEREiil"
   },
   "outputs": [
    {
     "name": "stdout",
     "output_type": "stream",
     "text": [
      "[0 1 2 3 4]\n",
      "[-1  2  5  5  9]\n",
      "   0\n",
      "0  0\n",
      "1  1\n",
      "2  2\n",
      "3  3\n",
      "4  4\n",
      "   0\n",
      "0 -1\n",
      "1  2\n",
      "2  5\n",
      "3  5\n",
      "4  9\n",
      "Linear regression using sklearn.linear_model.LinearRegression\n",
      "parameters: a=0.41 b=0.36\n",
      "parameters: a=0.410714 b=0.357143\n",
      "Time taken: 0.0013148784637451172 seconds\n"
     ]
    },
    {
     "data": {
      "image/png": "[encoded data removed]",
      "text/plain": [
       "<matplotlib.figure.Figure at 0x116b82400>"
      ]
     },
     "metadata": {},
     "output_type": "display_data"
    }
   ],
   "source": [
    "import numpy as np\n",
    "import pandas as pd\n",
    "from sklearn.linear_model import LinearRegression\n",
    "import matplotlib.pyplot as plt\n",
    "import time\n",
    "from numpy.linalg import inv\n",
    "\n",
    "x = np.array([0,1,2,3,4])\n",
    "y = np.array([-1,2,5,5,9])\n",
    "\n",
    "#x0 = [0,1,2,3,4]\n",
    "#y0 = [-1,2,5,5,9]\n",
    "\n",
    "#plt.plot(x0,y0,'o')\n",
    "\n",
    "print(x)\n",
    "print(y)\n",
    "\n",
    "x = pd.DataFrame(x)\n",
    "y = pd.DataFrame(y)\n",
    "\n",
    "print(x)\n",
    "print(y)\n",
    "\n",
    "# Compute LR\n",
    "t1=time.time()\n",
    "lm = LinearRegression()\n",
    "\n",
    "#lm.fit(y,x)\n",
    "#lm.fit(y.values.reshape(-1,1),x.values.reshape(-1,1))\n",
    "lm.fit(y.values.reshape(5,1),x.values.reshape(5,1))\n",
    "ar=lm.coef_#[1]\n",
    "br=lm.intercept_\n",
    "t2=time.time()\n",
    "t_sklearn_linear = float(t2-t1)\n",
    "\n",
    "plt.plot(x,y,'o')\n",
    "\n",
    "# Print coefficients\n",
    "print('Linear regression using sklearn.linear_model.LinearRegression')\n",
    "print('parameters: a=%.2f b=%.2f'% (ar,br))\n",
    "print('parameters: a=%f b=%f' % (ar,br))\n",
    "print(\"Time taken: {} seconds\".format(t_sklearn_linear))\n",
    "    \n"
   ]
  },
  {
   "cell_type": "markdown",
   "metadata": {
    "colab_type": "text",
    "id": "jSfpHHfJFPc5"
   },
   "source": [
    "### 3. Predict the vertex value $y_i = f(v_i)$"
   ]
  },
  {
   "cell_type": "code",
   "execution_count": 67,
   "metadata": {
    "colab": {},
    "colab_type": "code",
    "id": "x3K306_pFUQc"
   },
   "outputs": [
    {
     "name": "stdout",
     "output_type": "stream",
     "text": [
      "[[3.23214286]\n",
      " [1.17857143]]\n",
      "[3.2321428571428577, 1.1785714285714284]\n"
     ]
    },
    {
     "data": {
      "text/plain": [
       "[<matplotlib.lines.Line2D at 0x116bf99b0>]"
      ]
     },
     "execution_count": 67,
     "metadata": {},
     "output_type": "execute_result"
    },
    {
     "data": {
      "image/png": "[encoded data removed]",
      "text/plain": [
       "<matplotlib.figure.Figure at 0x116882518>"
      ]
     },
     "metadata": {},
     "output_type": "display_data"
    }
   ],
   "source": [
    "v = [7,2]\n",
    "v = pd.DataFrame(v)\n",
    "# Use the model above to predict y_i here\n",
    "y_prediction = lm.predict(v.values.reshape(-1,1))\n",
    "#y_prediction = lm.predict(v.values.reshape(5,1))\n",
    "# Print y\n",
    "print(y_prediction)\n",
    "\n",
    "yp = [y_prediction[0][0],y_prediction[1][0]]\n",
    "print(yp)\n",
    "#print(y_prediction[1][0])\n",
    "plt.plot(x,y,'o')\n",
    "plt.plot(yp,v,'r')\n"
   ]
  },
  {
   "cell_type": "markdown",
   "metadata": {
    "colab_type": "text",
    "id": "nDEdBrtYFjEr"
   },
   "source": [
    "### 4. Use the matrix form to compute Linear Regression\n",
    "\n",
    "The analytic solution to Linear Least Squares Regression:\n",
    "\n",
    "$(X^TX)^{-1}X^Ty = X^Tx$"
   ]
  },
  {
   "cell_type": "code",
   "execution_count": 66,
   "metadata": {
    "colab": {},
    "colab_type": "code",
    "id": "B73O-XcrF9Wd"
   },
   "outputs": [
    {
     "name": "stdout",
     "output_type": "stream",
     "text": [
      "[[1.]\n",
      " [1.]\n",
      " [1.]\n",
      " [1.]\n",
      " [1.]]\n",
      "[[0]\n",
      " [1]\n",
      " [2]\n",
      " [3]\n",
      " [4]]\n",
      "[[1. 0.]\n",
      " [1. 1.]\n",
      " [1. 2.]\n",
      " [1. 3.]\n",
      " [1. 4.]]\n",
      "[-0.6  2.3]\n",
      "[-0.6  1.7  4.   6.3  8.6]\n"
     ]
    },
    {
     "data": {
      "text/plain": [
       "[<matplotlib.lines.Line2D at 0x116d5cb00>,\n",
       " <matplotlib.lines.Line2D at 0x116e17320>]"
      ]
     },
     "execution_count": 66,
     "metadata": {},
     "output_type": "execute_result"
    },
    {
     "data": {
      "image/png": "[encoded data removed]",
      "text/plain": [
       "<matplotlib.figure.Figure at 0x116d5ce80>"
      ]
     },
     "metadata": {},
     "output_type": "display_data"
    }
   ],
   "source": [
    "# Compute the above equation for x and y\n",
    "x = np.array([0,1,2,3,4])\n",
    "y = np.array([-1,2,5,5,9])\n",
    "\n",
    "int = np.ones(shape=y.shape)[..., None]\n",
    "x  = x[..., None]\n",
    "print(int)\n",
    "print(x)\n",
    "X = np.concatenate((int, x), 1)\n",
    "print(X)\n",
    "coeffs = inv(X.transpose().dot(X)).dot(X.transpose()).dot(y)\n",
    "#        b = inv(X.T.dot(X)).dot(X.T).dot(y)\n",
    "yhat = X.dot(coeffs)\n",
    "# Print the coefficients produced from this method, which should be equal to\n",
    "# the coefficients above.\n",
    "print(coeffs)\n",
    "print(yhat)\n",
    "\n",
    "plt.plot(x,y,'o');\n",
    "plt.plot(X,yhat,'g')\n"
   ]
  },
  {
   "cell_type": "code",
   "execution_count": null,
   "metadata": {},
   "outputs": [],
   "source": []
  }
 ],
 "metadata": {
  "colab": {
   "collapsed_sections": [],
   "name": "Linear Regression Sprint Challenge.ipynb",
   "provenance": [],
   "version": "0.3.2"
  },
  "kernelspec": {
   "display_name": "Python 3",
   "language": "python",
   "name": "python3"
  },
  "language_info": {
   "codemirror_mode": {
    "name": "ipython",
    "version": 3
   },
   "file_extension": ".py",
   "mimetype": "text/x-python",
   "name": "python",
   "nbconvert_exporter": "python",
   "pygments_lexer": "ipython3",
   "version": "3.6.4"
  }
 },
 "nbformat": 4,
 "nbformat_minor": 2
}
