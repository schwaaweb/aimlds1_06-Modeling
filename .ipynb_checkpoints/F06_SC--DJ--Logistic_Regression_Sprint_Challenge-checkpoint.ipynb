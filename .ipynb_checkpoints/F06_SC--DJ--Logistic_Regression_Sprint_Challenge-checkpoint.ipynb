{
 "cells": [
  {
   "cell_type": "markdown",
   "metadata": {
    "colab_type": "text",
    "id": "view-in-github"
   },
   "source": [
    "[View in Colaboratory](https://colab.research.google.com/github/schwaaweb/aimlds1_06-TheMachineLearningFramework/blob/master/F06_SC--DJ--Logistic_Regression_Sprint_Challenge.ipynb)"
   ]
  },
  {
   "cell_type": "markdown",
   "metadata": {
    "colab_type": "text",
    "id": "aD8Yb0P8D04e"
   },
   "source": [
    "# Logistic Regression Sprint Challenge\n",
    "\n",
    "Objectives:\n",
    "* Create a training set and train a Logistic Regression model with it\n",
    "* Predict values for $\\hat{y}$ using a test set\n",
    "* Calculate sum-of-squared error $SSE(y,\\hat{y})$\n",
    "* Calculate the error rate of the model as a percentage"
   ]
  },
  {
   "cell_type": "markdown",
   "metadata": {
    "colab_type": "text",
    "id": "aq9MJvtTE6lY"
   },
   "source": [
    "### 1. Compute Linear Regression Model\n",
    "\n",
    "Create a training set and train a Logistic Regression model with it"
   ]
  },
  {
   "cell_type": "code",
   "execution_count": 8,
   "metadata": {
    "colab": {},
    "colab_type": "code",
    "id": "I8nqyUEREiil"
   },
   "outputs": [
    {
     "name": "stdout",
     "output_type": "stream",
     "text": [
      "(26, 4)\n",
      "(14, 4)\n"
     ]
    },
    {
     "ename": "TypeError",
     "evalue": "fit() missing 1 required positional argument: 'y'",
     "output_type": "error",
     "traceback": [
      "\u001b[0;31m---------------------------------------------------------------------------\u001b[0m",
      "\u001b[0;31mTypeError\u001b[0m                                 Traceback (most recent call last)",
      "\u001b[0;32m<ipython-input-8-532fd938d9f5>\u001b[0m in \u001b[0;36m<module>\u001b[0;34m()\u001b[0m\n\u001b[1;32m     17\u001b[0m \u001b[0;31m# Create and train(fit) the model\u001b[0m\u001b[0;34m\u001b[0m\u001b[0;34m\u001b[0m\u001b[0m\n\u001b[1;32m     18\u001b[0m \u001b[0mclassifier\u001b[0m \u001b[0;34m=\u001b[0m \u001b[0mLogisticRegression\u001b[0m\u001b[0;34m(\u001b[0m\u001b[0mrandom_state\u001b[0m\u001b[0;34m=\u001b[0m\u001b[0;36m0\u001b[0m\u001b[0;34m)\u001b[0m\u001b[0;34m\u001b[0m\u001b[0m\n\u001b[0;32m---> 19\u001b[0;31m \u001b[0mclassifier\u001b[0m\u001b[0;34m.\u001b[0m\u001b[0mfit\u001b[0m\u001b[0;34m(\u001b[0m\u001b[0mdf_train\u001b[0m\u001b[0;34m)\u001b[0m\u001b[0;34m\u001b[0m\u001b[0m\n\u001b[0m",
      "\u001b[0;31mTypeError\u001b[0m: fit() missing 1 required positional argument: 'y'"
     ]
    }
   ],
   "source": [
    "# Import necessary libraries\n",
    "import pandas as pd\n",
    "import numpy as np\n",
    "from sklearn.model_selection import train_test_split\n",
    "from sklearn.linear_model import LogisticRegression\n",
    "\n",
    "#!wget -c https://www.dropbox.com/s/bnwfu81bjpf22hp/logistic_regression.csv?raw=1\n",
    "#!mv logistic_regression.csv?raw=1 logistic_regression.csv\n",
    "df = pd.read_csv('logistic_regression.csv')\n",
    "\n",
    "#df\n",
    "#df.shape\n",
    "# Use train_test_split to create a training set\n",
    "df_train, df_test = train_test_split(df, test_size=0.33, random_state=42)\n",
    "print(df_train.shape)\n",
    "print(df_test.shape)\n",
    "# Create and train(fit) the model\n",
    "\n",
    "dfy_train = ## pencils down !!!\n",
    "\n",
    "classifier = LogisticRegression(random_state=0)\n",
    "classifier.fit(dfX_train, dfy_train)"
   ]
  },
  {
   "cell_type": "markdown",
   "metadata": {
    "colab_type": "text",
    "id": "jSfpHHfJFPc5"
   },
   "source": [
    "### 2. Predict values for $\\hat{y}$ for the test set"
   ]
  },
  {
   "cell_type": "code",
   "execution_count": null,
   "metadata": {
    "colab": {},
    "colab_type": "code",
    "id": "x3K306_pFUQc"
   },
   "outputs": [],
   "source": [
    "# Predict y_hat for the test set created previously"
   ]
  },
  {
   "cell_type": "markdown",
   "metadata": {
    "colab_type": "text",
    "id": "nDEdBrtYFjEr"
   },
   "source": [
    "### 3. Calculate SSE for the test-set"
   ]
  },
  {
   "cell_type": "code",
   "execution_count": null,
   "metadata": {
    "colab": {},
    "colab_type": "code",
    "id": "B73O-XcrF9Wd"
   },
   "outputs": [],
   "source": [
    "# Calculate SSE\n",
    "\n",
    "# Print SSE"
   ]
  },
  {
   "cell_type": "markdown",
   "metadata": {
    "colab_type": "text",
    "id": "QS0KgX-_QbX6"
   },
   "source": [
    "### 4. Calculate the error rate of the model as a percentage."
   ]
  },
  {
   "cell_type": "code",
   "execution_count": null,
   "metadata": {
    "colab": {},
    "colab_type": "code",
    "id": "t2xGVuYcQfAo"
   },
   "outputs": [],
   "source": [
    "# Calculate percentage\n",
    "\n",
    "# Print percentage"
   ]
  }
 ],
 "metadata": {
  "colab": {
   "collapsed_sections": [],
   "name": "Logistic Regression Sprint Challenge.ipynb",
   "provenance": [],
   "version": "0.3.2"
  },
  "kernelspec": {
   "display_name": "Python 3",
   "language": "python",
   "name": "python3"
  },
  "language_info": {
   "codemirror_mode": {
    "name": "ipython",
    "version": 3
   },
   "file_extension": ".py",
   "mimetype": "text/x-python",
   "name": "python",
   "nbconvert_exporter": "python",
   "pygments_lexer": "ipython3",
   "version": "3.6.4"
  }
 },
 "nbformat": 4,
 "nbformat_minor": 2
}
