{
 "cells": [
  {
   "cell_type": "markdown",
   "metadata": {
    "colab_type": "text",
    "id": "view-in-github"
   },
   "source": [
    "[View in Colaboratory](https://colab.research.google.com/github/schwaaweb/aimlds1_06-TheMachineLearningFramework/blob/master/M06_AS--TC--Regression_is_Predictions_Assignment.ipynb)"
   ]
  },
  {
   "cell_type": "markdown",
   "metadata": {
    "colab_type": "text",
    "id": "S2aqleAFA8kS"
   },
   "source": [
    "# Regression is Prediction\n",
    "\n",
    "## Linear Regression\n",
    "\n",
    "You all know the equation for a line, $y = mx+b$, or in the language of ML $f(x) = mx+b$. Two points are \"produced\" by $f(x)$:"
   ]
  },
  {
   "cell_type": "code",
   "execution_count": 86,
   "metadata": {
    "colab": {
     "base_uri": "https://localhost:8080/",
     "height": 161
    },
    "colab_type": "code",
    "id": "9vyJjA4fA8kT",
    "outputId": "13ef2723-f937-4be1-ba07-7ce239ffb21e"
   },
   "outputs": [
    {
     "data": {
      "image/png": "[encoded data removed]",
      "text/plain": [
       "<matplotlib.figure.Figure at 0x1a1d3496d8>"
      ]
     },
     "metadata": {},
     "output_type": "display_data"
    }
   ],
   "source": [
    "import numpy as np\n",
    "import matplotlib.pyplot as plt\n",
    "\n",
    "def plot_two():\n",
    "  x = [3,8]\n",
    "  y = [4,7]\n",
    "  plt.figure(figsize=(3,2))\n",
    "  plt.plot(x,y,'o')\n",
    "  plt.xlim(0,10)\n",
    "  plt.ylim(0,10)\n",
    "\n",
    "plot_two()"
   ]
  },
  {
   "cell_type": "markdown",
   "metadata": {
    "colab_type": "text",
    "id": "PNw0fWyv7bwf"
   },
   "source": [
    "It is easy to solve $f(x) = mx+b$ for the above two points. We don't have to! There are many implementations of linear regression in the `python` universe."
   ]
  },
  {
   "cell_type": "code",
   "execution_count": 87,
   "metadata": {
    "colab": {
     "base_uri": "https://localhost:8080/",
     "height": 185
    },
    "colab_type": "code",
    "id": "Vk-Ylxgu6rUY",
    "outputId": "b547989d-cc3d-4da9-a9c0-964b479eba0c"
   },
   "outputs": [
    {
     "name": "stdout",
     "output_type": "stream",
     "text": [
      "0.6 2.2\n"
     ]
    }
   ],
   "source": [
    "x = [3,8]\n",
    "y = [4,7]\n",
    "\n",
    "p = np.polyfit(x,y,1) # the 3rd parameter 1 is the deg or degree of the fit\n",
    "print(3/5,2+(1/5))"
   ]
  },
  {
   "cell_type": "markdown",
   "metadata": {
    "colab_type": "text",
    "id": "k0jIFnAz7-yN"
   },
   "source": [
    "So, $f(x) = \\frac{3}{5}x + 2\\frac{1}{5}$"
   ]
  },
  {
   "cell_type": "code",
   "execution_count": 88,
   "metadata": {
    "colab": {
     "base_uri": "https://localhost:8080/",
     "height": 161
    },
    "colab_type": "code",
    "id": "IwiktkBW7bkv",
    "outputId": "75704178-6098-49d9-ac6a-853d56788218"
   },
   "outputs": [
    {
     "data": {
      "image/png": "[encoded data removed]",
      "text/plain": [
       "<matplotlib.figure.Figure at 0x1a1d4c0278>"
      ]
     },
     "metadata": {},
     "output_type": "display_data"
    }
   ],
   "source": [
    "# Really weird - the line drawn in this graph doesn't quite intersect the points\n",
    "# how I expected. I tweaked the values to make it suit my Mark-One-Eyeball\n",
    "# better. I suspect that the discrepancy is actually caused by the graph.\n",
    "\n",
    "def f(x):\n",
    "    return 0.595*x + 2.16\n",
    "    #return 0.6*x + 2.2\n",
    "    \n",
    "plot_two()\n",
    "xs = np.linspace(0,10,11)\n",
    "plt.plot(xs,f(xs),c='g');"
   ]
  },
  {
   "cell_type": "markdown",
   "metadata": {
    "colab_type": "text",
    "id": "wwcQAbo3-o9T"
   },
   "source": [
    "## Co-Linearity\n",
    "\n",
    "The above two points we used to generate $f(x)$ lie on the same line. Any pair of points lie on the same line - a line is defined by two points. Every other point on the line is co-linear with the first two. If we had three points all defined by $f(x)$, the result of `np.polyfit` would be the same.\n",
    "\n",
    "What about when the points are not co-linear, but instead are merely covariant?"
   ]
  },
  {
   "cell_type": "code",
   "execution_count": 89,
   "metadata": {
    "colab": {
     "base_uri": "https://localhost:8080/",
     "height": 406
    },
    "colab_type": "code",
    "id": "e-sR8J688mUt",
    "outputId": "1457b075-c955-4653-e183-73259cbbe978"
   },
   "outputs": [
    {
     "name": "stderr",
     "output_type": "stream",
     "text": [
      "/Users/darwinm/anaconda3/lib/python3.6/site-packages/ipykernel_launcher.py:17: RuntimeWarning: covariance is not positive-semidefinite.\n"
     ]
    },
    {
     "name": "stdout",
     "output_type": "stream",
     "text": [
      "(50, 2)\n"
     ]
    },
    {
     "data": {
      "image/png": "[encoded data removed]",
      "text/plain": [
       "<matplotlib.figure.Figure at 0x1a1d3a3a90>"
      ]
     },
     "metadata": {},
     "output_type": "display_data"
    }
   ],
   "source": [
    "\n",
    "'''\n",
    "https://stackoverflow.com/questions/41515522/numpy-positive-semi-definite-warning?utm_medium=organic&utm_source=google_rich_qa&utm_campaign=google_rich_qa\n",
    "\n",
    "np.random.multivariate_normal(np.zeros(dim_obs), y_cov)\n",
    "\n",
    "min_eig = np.min(np.real(np.linalg.eigvals(y_cov)))\n",
    "if min_eig < 0:\n",
    "    y_cov -= 10*min_eig * np.eye(*y_cov.shape)\n",
    "'''\n",
    "\n",
    "def plot_many(points):\n",
    "  plt.scatter(*points.T)\n",
    "  plt.xlim(0,25)\n",
    "  plt.ylim(0,50)\n",
    "  \n",
    "points = np.random.multivariate_normal([15,15],[[12,6],[1,6]],50)\n",
    "\n",
    "#if points < 0:\n",
    "#    points -= 10*\n",
    "\n",
    "print(points.shape)\n",
    "#print(points)\n",
    "plot_many(points)"
   ]
  },
  {
   "cell_type": "code",
   "execution_count": 90,
   "metadata": {
    "colab": {
     "base_uri": "https://localhost:8080/",
     "height": 34
    },
    "colab_type": "code",
    "id": "DKPdnzQZAZek",
    "outputId": "6c1d2aa7-86fb-4c6a-e77c-087f3349d291"
   },
   "outputs": [
    {
     "name": "stdout",
     "output_type": "stream",
     "text": [
      "[ 0.28490713 11.2387847 ]\n",
      "(2, 50)\n"
     ]
    }
   ],
   "source": [
    "x, y = points.T\n",
    "p2 = np.polyfit(x,y,1)\n",
    "print(p2)\n",
    "\n",
    "print(points.T.shape)"
   ]
  },
  {
   "cell_type": "code",
   "execution_count": 91,
   "metadata": {
    "colab": {
     "base_uri": "https://localhost:8080/",
     "height": 351
    },
    "colab_type": "code",
    "id": "PHPM-ud4BwE2",
    "outputId": "c45e06e5-9e46-4882-b812-7d412ef5f655"
   },
   "outputs": [
    {
     "data": {
      "image/png": "[encoded data removed]",
      "text/plain": [
       "<matplotlib.figure.Figure at 0x1a1db96e80>"
      ]
     },
     "metadata": {},
     "output_type": "display_data"
    }
   ],
   "source": [
    "def f2(x):\n",
    "  return p2[0] * x + p2[1]\n",
    "plot_many(points)\n",
    "nx = np.linspace(0,25,26)\n",
    "plt.plot(nx,f2(nx),c='r');\n",
    "  "
   ]
  },
  {
   "cell_type": "markdown",
   "metadata": {
    "colab_type": "text",
    "id": "6d-s2xCt9GNa"
   },
   "source": [
    "# Regression by Gradient Descent\n",
    "\n",
    "Linear regression is implemented by a multitude of libraries:\n",
    "\n",
    "[A bunch of ways](https://medium.freecodecamp.org/data-science-with-python-8-ways-to-do-linear-regression-and-measure-their-speed-b5577d75f8b)\n",
    "\n",
    "You will never need to implement linear regression by hand, except right now! Linear regression is great because it has an analytic solution to the system of equations $Ax = b$, which can be computed via matrix multiplies:\n",
    "\n",
    "$x = (A^TA)^{-1}A^Tb$\n",
    "\n",
    "However, it is also trivial to compute the same solution via gradient descent. Remember those function gradients we studied at the beginning of class?\n",
    "\n"
   ]
  },
  {
   "cell_type": "code",
   "execution_count": 92,
   "metadata": {
    "colab": {
     "base_uri": "https://localhost:8080/",
     "height": 417
    },
    "colab_type": "code",
    "id": "CEir2hIh8-fs",
    "outputId": "d347f07c-eb12-434b-ac4c-c7a1edac370e"
   },
   "outputs": [
    {
     "name": "stderr",
     "output_type": "stream",
     "text": [
      "/Users/darwinm/anaconda3/lib/python3.6/site-packages/ipykernel_launcher.py:10: RuntimeWarning: covariance is not positive-semidefinite.\n",
      "  # Remove the CWD from sys.path while we load stuff.\n"
     ]
    },
    {
     "data": {
      "image/png": "[encoded data removed]",
      "text/plain": [
       "<matplotlib.figure.Figure at 0x1a1db4a160>"
      ]
     },
     "metadata": {},
     "output_type": "display_data"
    }
   ],
   "source": [
    "# LAMBDA SCHOOL\n",
    "# \n",
    "# MACHINE LEARNING\n",
    "#\n",
    "# MIT LICENSE\n",
    "\n",
    "import numpy as np\n",
    "import matplotlib.pyplot as plt\n",
    "\n",
    "points = np.random.multivariate_normal([10,10],[[10,10],[0,10]],40)\n",
    "x,y = points.T\n",
    "solution = np.polyfit(x,y,1)\n",
    "plt.plot(x,y,marker='.',lineStyle=\"None\");\n",
    "plt.plot(x,x*solution[0] + solution[1],c='r');\n",
    "plt.title('Cool line bro');"
   ]
  },
  {
   "cell_type": "markdown",
   "metadata": {
    "colab_type": "text",
    "id": "C0TbfsLj7AQo"
   },
   "source": [
    "The solution is just a pair of scalars, $m$ and $b$. What if we pick them at random?\n",
    "\n",
    "```\n",
    "# This is formatted as code\n",
    "```\n",
    "\n"
   ]
  },
  {
   "cell_type": "code",
   "execution_count": 93,
   "metadata": {
    "colab": {
     "base_uri": "https://localhost:8080/",
     "height": 347
    },
    "colab_type": "code",
    "id": "BzWVI4W4HQH5",
    "outputId": "efbe7c6e-445e-4e31-deb6-833ebb51f291"
   },
   "outputs": [
    {
     "data": {
      "image/png": "[encoded data removed]",
      "text/plain": [
       "<matplotlib.figure.Figure at 0x1a1d07bef0>"
      ]
     },
     "metadata": {},
     "output_type": "display_data"
    }
   ],
   "source": [
    "m = np.random.random()\n",
    "b = np.random.random()\n",
    "\n",
    "# How is this solution?\n",
    "plt.plot(x,y,marker='.',lineStyle=\"None\");\n",
    "plt.plot(x,x*solution[0] + solution[1],c='r');\n",
    "plt.plot(x,m*x + b,c='g');"
   ]
  },
  {
   "cell_type": "markdown",
   "metadata": {
    "colab_type": "text",
    "id": "kjYohDH1HXTu"
   },
   "source": [
    "## Root-mean Squared Error (RMSE)\n",
    "\n",
    "RMSE is the most common \"loss function\", that is, a way of measuring the error in a model prediction. The error of a prediction is the difference between the values it predicted and the values that were expected.\n",
    "\n",
    "RMSE is calculated:\n",
    "\n",
    "$RMSE = \\sqrt{\\frac{\\sum_{t=1}^T \\left( \\hat{y_t} - y_t \\right) ^2}{T}}$\n",
    "\n",
    "$\\hat{y_t}$ is the prediction of the model for a particular sample $t$. $y_t$ is the true label for sample $t$.\n",
    "\n",
    "Linear regression is the proess of minimizing the least-squared error between the line-of-regression and the sample points.\n",
    "\n",
    "If we calculate `polyfit` as above using `full=True`, it will return the error of the model computed by polyfit."
   ]
  },
  {
   "cell_type": "code",
   "execution_count": 94,
   "metadata": {
    "colab": {
     "base_uri": "https://localhost:8080/",
     "height": 104
    },
    "colab_type": "code",
    "id": "I0XEJjxqHeer",
    "outputId": "697e6f25-f6a1-481e-c014-0bcbce0540be"
   },
   "outputs": [
    {
     "name": "stdout",
     "output_type": "stream",
     "text": [
      "[0.59194744 4.21782736]\n",
      "[338.23070401]\n",
      "2\n",
      "[1.40447924 0.16564439]\n",
      "8.881784197001252e-15\n"
     ]
    }
   ],
   "source": [
    "coefficients, residual, solution_rank, solution_singular_values, rcond_epsilon = np.polyfit(x,y,1,full=True)\n",
    "print(coefficients)\n",
    "print(residual)\n",
    "print(solution_rank)\n",
    "print(solution_singular_values)\n",
    "print(rcond_epsilon)"
   ]
  },
  {
   "cell_type": "markdown",
   "metadata": {
    "colab_type": "text",
    "id": "eGaa-9_wLxDz"
   },
   "source": [
    "Of particular interest here is the residual - this number is the MSE of the solution returned by `polyfit`. Can we reproduce it?\n",
    "\n",
    "What about the residual of the line we just guessed at?\n",
    "\n",
    "---\n",
    "\n"
   ]
  },
  {
   "cell_type": "code",
   "execution_count": 95,
   "metadata": {
    "colab": {
     "base_uri": "https://localhost:8080/",
     "height": 52
    },
    "colab_type": "code",
    "id": "c-g0kllfL32-",
    "outputId": "430dad35-033d-46a1-8328-7370b999cc4b"
   },
   "outputs": [
    {
     "name": "stdout",
     "output_type": "stream",
     "text": [
      "338.23070400863264\n",
      "518.1951941595314\n"
     ]
    }
   ],
   "source": [
    "confirm_residual = np.sum((x*coefficients[0] + coefficients[1] - y)**2)\n",
    "print(confirm_residual)\n",
    "\n",
    "random_residual = np.sum((x*m+b-y)**2)\n",
    "print(random_residual)"
   ]
  },
  {
   "cell_type": "markdown",
   "metadata": {
    "colab_type": "text",
    "id": "DHECA6TiObPq"
   },
   "source": [
    "### Loss function\n",
    "\n",
    "The goal of gradient descent is to minimize the loss function - in this case, the loss function being RMSE of our estimated line. Without `polyfit`, we'd try to minimize the loss function all the way to 0, but `polyfit` has already calculated the best possible result! $MSE = 419$, $RMSE = \\sqrt{419}$.\n",
    "\n",
    "## Gradient Descent\n",
    "\n",
    "`polyfit` determined that the best possible solution for $f(x) = mx+b$ is `coefficients[0] * x + coefficients[1]`. For any other value of `m` and `b`, the error (or RMSE), will be larger. The error function, RMSE is $\\sqrt(mx+b-y)^2$"
   ]
  },
  {
   "cell_type": "code",
   "execution_count": 96,
   "metadata": {
    "colab": {
     "base_uri": "https://localhost:8080/",
     "height": 348
    },
    "colab_type": "code",
    "id": "bBxhZyAQcy2e",
    "outputId": "f52c85e9-cd6f-4f8f-e611-0391b1662176"
   },
   "outputs": [
    {
     "name": "stdout",
     "output_type": "stream",
     "text": [
      "[0.59194744 4.21782736]\n"
     ]
    },
    {
     "data": {
      "image/png": "[encoded data removed]",
      "text/plain": [
       "<matplotlib.figure.Figure at 0x1a1ceef6d8>"
      ]
     },
     "metadata": {},
     "output_type": "display_data"
    }
   ],
   "source": [
    "def mse(x,prediction_m,prediction_b,true_m,true_b):\n",
    "  width = len(prediction_m)\n",
    "  height = len(prediction_m[0])\n",
    "  result = np.zeros(width*height).reshape(width,height)\n",
    "  for row in range(width):\n",
    "    for col in range(height):\n",
    "      # calculate the RMSE of prediction_m/b, store in result\n",
    "      m = prediction_m[row][col]\n",
    "      b = prediction_b[row][col]\n",
    "      result[row][col] = np.sum(((x*m+b)-(x*true_m+true_b))**2)\n",
    "  return result\n",
    "\n",
    "m_range = np.linspace(coefficients[0]*0.5, 2*coefficients[0], 15)\n",
    "b_range = np.linspace(coefficients[1]*0.5, 2*coefficients[1], 15)\n",
    "mm, bb = np.meshgrid(m_range,b_range)\n",
    "Z = mse(x,mm,bb,coefficients[0],coefficients[1])\n",
    "\n",
    "import matplotlib.pyplot as plt\n",
    "from mpl_toolkits.mplot3d.axes3d import Axes3D, get_test_data\n",
    "from matplotlib import cm\n",
    "import numpy as np\n",
    "\n",
    "fig = plt.figure(figsize=plt.figaspect(0.5))\n",
    "ax = fig.add_subplot(1, 2, 1, projection='3d')\n",
    "surf = ax.plot_surface(mm, bb, Z,  cmap=cm.coolwarm,\\\n",
    "                       linewidth=0, antialiased=False)\n",
    "ax.set_xlabel('m')\n",
    "ax.set_ylabel('b')\n",
    "ax.set_zlabel('residual')\n",
    "ax.set_title('Gradient of Linear Regression');\n",
    "print(coefficients)"
   ]
  },
  {
   "cell_type": "markdown",
   "metadata": {
    "colab_type": "text",
    "id": "0-GkMuUOEaRt"
   },
   "source": [
    "### Gradient Descent by Partial Derivative\n",
    "\n",
    "The error function $E_{rms} = \\sum{\\sqrt{(\\hat y_i - y_i)^2}}$ is differentiable: that is, we can find the derivative of the error function, which informs us how to update the parameters to minimize it. A model with zero error is perfect.\n",
    "\n",
    "One of the foundations of machine learning is taking the partial derivative of the error function. When the error function is well defined like above, the gradient can be computed analytically. When it is not well defined, it can be computed using the method of finite differences which we studied in week 1. Lets drop the $\\sqrt{}$ to make the derivative easier:\n",
    "\n",
    "$E_{rms} = \\sum{(\\hat y_i - y_i)^2} = \\sum{(mx_i + b - y_i)^2}$\n",
    "\n",
    "We can't drop the $^2$, because that's what makes this a minimization problem.\n",
    "\n",
    "We have two variables $m$ and $b$ that we'd like to solve for:\n",
    "\n",
    "$\\frac{\\partial}{\\partial m} = -2\\sum x(mx_i + b - y)$\n",
    "\n",
    "$\\frac{\\partial}{\\partial b} = -2\\sum (mx_i + b - y)$\n",
    "\n",
    "See\n",
    "* [ML Cheatsheet](http://ml-cheatsheet.readthedocs.io/en/latest/linear_regression.html)\n",
    "\n",
    "and\n",
    "* [MCCormickML](http://mccormickml.com/2014/03/04/gradient-descent-derivation/)"
   ]
  },
  {
   "cell_type": "code",
   "execution_count": 97,
   "metadata": {
    "colab": {
     "base_uri": "https://localhost:8080/",
     "height": 382
    },
    "colab_type": "code",
    "id": "FPmyS_sRPELZ",
    "outputId": "9cbfe023-6003-4fae-d2ed-0b221ff1903f"
   },
   "outputs": [
    {
     "name": "stdout",
     "output_type": "stream",
     "text": [
      "(0.5925030379955685, 4.211281316820149, 8.455769920440627)\n"
     ]
    },
    {
     "data": {
      "text/plain": [
       "[<matplotlib.lines.Line2D at 0x1a1d0b1dd8>]"
      ]
     },
     "execution_count": 97,
     "metadata": {},
     "output_type": "execute_result"
    },
    {
     "data": {
      "image/png": "[encoded data removed]",
      "text/plain": [
       "<matplotlib.figure.Figure at 0x1a1d3495c0>"
      ]
     },
     "metadata": {},
     "output_type": "display_data"
    }
   ],
   "source": [
    "def linear_regression(X, y, m_current=0, b_current=0, epochs=30000, learning_rate=0.002):\n",
    "   N = float(len(y))\n",
    "   for i in range(epochs):\n",
    "        y_current = (m_current * X) + b_current\n",
    "        cost = sum([data**2 for data in (y-y_current)]) / N\n",
    "        m_gradient = -(2/N) * sum(X * (y - y_current))\n",
    "        b_gradient = -(2/N) * sum(y - y_current)\n",
    "        m_current = m_current - (learning_rate * m_gradient)\n",
    "        b_current = b_current - (learning_rate * b_gradient)\n",
    "   return m_current, b_current, cost\n",
    "\n",
    "m_solution = linear_regression(x, y)\n",
    "print(m_solution)\n",
    "plt.plot(x,y,'o',marker='.')\n",
    "plt.plot(x,x*solution[0]+solution[1],c='r')\n",
    "plt.plot(x,x*m_solution[0]+m_solution[1],c='y')"
   ]
  },
  {
   "cell_type": "markdown",
   "metadata": {
    "colab_type": "text",
    "id": "Zb4JB-FoRoET"
   },
   "source": [
    "# Your Assignment\n",
    "\n",
    "Use gradient descent on the Titanic dataset.\n",
    "\n",
    "* 1) Load and clean the data\n",
    "* 1.1) Pay special attention to outliers. How will your model perform with and without outliers?\n",
    "* 2) Identify which features are scalar values\n",
    "* 3) Compute the linear regression of these values (there are only two predictable Y values)\n",
    "* 3.1) Choose a set of features (columns) from Titanic and see which features minimize your RMSE\n",
    "* 4) Report on your RMSE (residual error) for each of the models that you produce.\n",
    "Linear regression works well with univariate data (that is, $dim(x) = 1 \\times n$ and $dim(y) = 1 \\times n$) or with multivariate data: $dim(x)) = m\\times n$. Report your best regression selected from the data in the univariate case and the multivarate case. How do they differ?\n",
    "* 5) Would this RMSE successfully produce good predictions on the Titanic scalar values?"
   ]
  },
  {
   "cell_type": "code",
   "execution_count": 98,
   "metadata": {
    "colab": {
     "base_uri": "https://localhost:8080/",
     "height": 34
    },
    "colab_type": "code",
    "id": "ggFXuIuwRzYz",
    "outputId": "9941dbaa-a549-4650-b66f-52eef2b9c61d"
   },
   "outputs": [
    {
     "name": "stdout",
     "output_type": "stream",
     "text": [
      "(891, 9)\n"
     ]
    }
   ],
   "source": [
    "import numpy as np\n",
    "import pandas as pd\n",
    "import seaborn as sns\n",
    "from sklearn.preprocessing import LabelEncoder\n",
    "titanic = sns.load_dataset('titanic')\n",
    "\n",
    "# drop duplicate/analogous columns\n",
    "titanic = titanic.drop(['alive',\n",
    "                        'adult_male',\n",
    "                        'who',\n",
    "                        'class',\n",
    "                        'embark_town'], axis=1)\n",
    "\n",
    "# take care of missing data\n",
    "titanic['embarked'] = titanic['embarked'].fillna(method='ffill')\n",
    "titanic = titanic.drop(['deck'], axis=1)\n",
    "titanic['age'] = titanic['age'].fillna(method='ffill')\n",
    "\n",
    "# convert binomials and categoricals to encoded labels\n",
    "for label in ['embarked', 'sex', 'alone']:\n",
    "    titanic[label] = LabelEncoder().fit_transform(titanic[label])\n",
    "\n",
    "titanic.head()\n",
    "print(titanic.shape)"
   ]
  },
  {
   "cell_type": "code",
   "execution_count": 99,
   "metadata": {
    "colab": {
     "base_uri": "https://localhost:8080/",
     "height": 693
    },
    "colab_type": "code",
    "id": "qzqhhUTRnRoz",
    "outputId": "4b073075-cacb-4ebb-dd74-8c631835c23f"
   },
   "outputs": [
    {
     "name": "stdout",
     "output_type": "stream",
     "text": [
      "0    22.0\n",
      "Name: age, dtype: float64\n",
      "0    7.25\n",
      "Name: fare, dtype: float64\n",
      "   survived  pclass  sex  sibsp  parch  fare  embarked  alone\n",
      "0         0       3    1      1      0  7.25         2      0\n",
      "   survived  pclass  sex   age  sibsp  parch  embarked  alone\n",
      "0         0       3    1  22.0      1      0         2      0\n",
      "(891, 1)\n",
      "(891,)\n",
      "187222.21622112108\n",
      "158313.75136264853\n"
     ]
    },
    {
     "data": {
      "image/png": "[encoded data removed]",
      "text/plain": [
       "<matplotlib.figure.Figure at 0x1198f9518>"
      ]
     },
     "metadata": {},
     "output_type": "display_data"
    }
   ],
   "source": [
    "from sklearn import linear_model\n",
    "\n",
    "Y_actual_ages = titanic['age']\n",
    "Y_actual_fares = titanic['fare']\n",
    "X_no_ages = titanic.drop(['age'],axis=1)\n",
    "X_no_fares = titanic.drop(['fare'],axis=1)\n",
    "print(Y_actual_ages.head(1))\n",
    "print(Y_actual_fares.head(1))\n",
    "print(X_no_ages.head(1))\n",
    "print(X_no_fares.head(1))\n",
    "\n",
    "# Create linear regression object\n",
    "regr = linear_model.LinearRegression()\n",
    "\n",
    "# Train the model using the training sets\n",
    "regr.fit(X_no_ages, Y_actual_ages)\n",
    "\n",
    "# Make predictions using the testing set\n",
    "titanic_predicted_ages = regr.predict(X_no_ages)\n",
    "\n",
    "#plt.plot(range(len(titanic_predicted_ages)),titanic_predicted_ages,c='g', \\\n",
    "         #marker='.',lineStyle='None')\n",
    "#plt.plot(range(len(titanic_predicted_ages)),Y_actual_ages,c='r', \\\n",
    "        #marker='.',lineStyle='None')\n",
    "\n",
    "plt.show()\n",
    "plt.plot(Y_actual_fares,Y_actual_ages,'o')\n",
    "\n",
    "coefs = np.polyfit(Y_actual_fares,Y_actual_ages,1)\n",
    "regr.fit(Y_actual_fares.values.reshape(891,1),Y_actual_ages.values.reshape(891,1))\n",
    "one_dimensional_age_predictions = regr.predict(Y_actual_fares.values.reshape(-1,1))\n",
    "#print(one_dimensional_age_predictions)\n",
    "\n",
    "#one_dimensional_age_predictions = Y_actual_fares * coefs[0] + coefs[1]\n",
    "\n",
    "\n",
    "regr.fit(Y_actual_fares.values.reshape(891,1),Y_actual_ages.values.reshape(891,1))\n",
    "one_dimensional_age_predictions = regr.predict(Y_actual_fares.values.reshape(-1,1))\n",
    "plt.plot(Y_actual_fares,one_dimensional_age_predictions,'g')\n",
    "print(one_dimensional_age_predictions.shape)\n",
    "print(Y_actual_ages.shape)\n",
    "fare_pred_age_sse = np.sum((one_dimensional_age_predictions-Y_actual_ages.values.reshape(-1,1))**2)\n",
    "print(fare_pred_age_sse)\n",
    "\n",
    "regr.fit(X_no_ages,Y_actual_ages.values.reshape(-1,1))\n",
    "full_dimension_age_predictions = regr.predict(X_no_ages)\n",
    "age_pred_sse = np.sum((full_dimension_age_predictions-Y_actual_ages.values.reshape(-1,1))**2)\n",
    "print(age_pred_sse)\n",
    "\n"
   ]
  },
  {
   "cell_type": "markdown",
   "metadata": {
    "colab_type": "text",
    "id": "3pyTHVr2F7qN"
   },
   "source": [
    "## Stretch Goal\n",
    "\n",
    "Lets get started on Kaggle.\n",
    "\n",
    "[House Prices Advanced Regression](https://www.kaggle.com/c/house-prices-advanced-regression-techniques/data)\n",
    "\n",
    "Sign up to compete, and download the dataset! The Zillow data contains a huge number of columns. Spend an hour or two studying the data, cleaning it, and configuring it, then work to use `polyfit` (remember, it is your first ML model) to make predictions about the final column `SalePrice`.\n"
   ]
  },
  {
   "cell_type": "markdown",
   "metadata": {
    "colab_type": "text",
    "id": "FgT8j7qRHpIU"
   },
   "source": [
    "# Thinking about your assignment\n",
    "\n",
    "1. What am I being asked to do?\n",
    "2. What coding steps need to be taken to satisfy the problem?\n",
    "3. What must I do to claim that I have \"completed\" the assignment?"
   ]
  },
  {
   "cell_type": "markdown",
   "metadata": {
    "colab_type": "text",
    "id": "DSI0PcHMHwQq"
   },
   "source": [
    "# Why is Regression Prediction?\n",
    "\n"
   ]
  },
  {
   "cell_type": "code",
   "execution_count": 100,
   "metadata": {
    "colab": {
     "base_uri": "https://localhost:8080/",
     "height": 161
    },
    "colab_type": "code",
    "id": "SZUTTiGhwxJK",
    "outputId": "fa6dd96e-71ad-4142-bb74-f23eba177bc1"
   },
   "outputs": [
    {
     "data": {
      "image/png": "[encoded data removed]",
      "text/plain": [
       "<matplotlib.figure.Figure at 0x1a1d2a6908>"
      ]
     },
     "metadata": {},
     "output_type": "display_data"
    }
   ],
   "source": [
    "def f(x):\n",
    "  return 0.595*x + 2.16\n",
    "plot_two()\n",
    "xs = np.linspace(0,10,11)\n",
    "plt.plot(xs,f(xs),c='g');"
   ]
  },
  {
   "cell_type": "code",
   "execution_count": null,
   "metadata": {
    "colab": {},
    "colab_type": "code",
    "id": "zupwiODtkAvT"
   },
   "outputs": [],
   "source": []
  }
 ],
 "metadata": {
  "colab": {
   "collapsed_sections": [],
   "name": "Solution of Regression Assignment - Master.ipynb",
   "provenance": [],
   "version": "0.3.2"
  },
  "kernelspec": {
   "display_name": "Python 3",
   "language": "python",
   "name": "python3"
  },
  "language_info": {
   "codemirror_mode": {
    "name": "ipython",
    "version": 3
   },
   "file_extension": ".py",
   "mimetype": "text/x-python",
   "name": "python",
   "nbconvert_exporter": "python",
   "pygments_lexer": "ipython3",
   "version": "3.6.4"
  }
 },
 "nbformat": 4,
 "nbformat_minor": 2
}
