{
 "cells": [
  {
   "cell_type": "markdown",
   "metadata": {
    "colab_type": "text",
    "id": "view-in-github"
   },
   "source": [
    "[View in Colaboratory](https://colab.research.google.com/github/schwaaweb/aimlds1_06-TheMachineLearningFramework/blob/master/M06_SU0--NJ--RMSE_for_10_year_old.ipynb)"
   ]
  },
  {
   "cell_type": "markdown",
   "metadata": {
    "colab_type": "text",
    "id": "1SAdzoOi20mC"
   },
   "source": [
    "## Lets say you are playing a Car Racing video game - you have to drive on a road and collect coins lying on it\n",
    "\n",
    "1. Each time you miss a coin, we note down how far were you from the coin\n",
    "2. At the end of the road, we average up how much you missed by, over all those coins\n",
    "\n",
    "And **kid**, that is your Root Mean Square Error (RMSE)"
   ]
  },
  {
   "cell_type": "markdown",
   "metadata": {
    "colab_type": "text",
    "id": "CiaSS2Yp-1p3"
   },
   "source": [
    "### Road with coins"
   ]
  },
  {
   "cell_type": "code",
   "execution_count": 1,
   "metadata": {
    "colab": {},
    "colab_type": "code",
    "id": "FW1RoTnj2wP6",
    "outputId": "6306841b-838d-4080-b126-e4400172ba2e"
   },
   "outputs": [
    {
     "name": "stderr",
     "output_type": "stream",
     "text": [
      "/Users/darwinm/anaconda3/lib/python3.6/site-packages/ipykernel_launcher.py:6: RuntimeWarning: covariance is not positive-semidefinite.\n",
      "  \n"
     ]
    }
   ],
   "source": [
    "import numpy as np\n",
    "import matplotlib.pyplot as plt\n",
    "import seaborn as sns\n",
    "sns.set(style='white')\n",
    "\n",
    "coins = np.random.multivariate_normal([15,15], [[12,6], [1,6]], 50)\n",
    "plt.scatter(*coins.T, c='gold')\n",
    "plt.xlim(0,25)\n",
    "plt.ylim(0,50)\n",
    "plt.xticks([])\n",
    "plt.yticks([])\n",
    "plt.axis('off')\n",
    "\n",
    "def f2(x):\n",
    "  return p2[0] * x + p2[1]\n",
    "\n",
    "x, y = coins.T\n",
    "p2 = np.polyfit(x,y,1)\n",
    "nx = np.linspace(0,25,26)\n",
    "plt.plot(nx,f2(nx)+10,c='black');\n",
    "plt.plot(nx,f2(nx)-10,c='black');"
   ]
  },
  {
   "cell_type": "code",
   "execution_count": null,
   "metadata": {},
   "outputs": [],
   "source": []
  },
  {
   "cell_type": "markdown",
   "metadata": {},
   "source": [
    "1. Kieran let's say you're playing a driving game where you have to run over coins. Each time you pass a coin, we write down how far were you from that coin when you were passing it. If you run over the coin this is zero.\n",
    "2. At the end of the road, we add up all the distances from the coin and divide it by all the coins that were on the road.\n",
    "3. If you got all the coins the number is zero, you did great! If you got no coins your number is really high, so you didn't do so well. Most likely you're going to be somewhere in the middle.\n",
    "Any way you cut it Kieran, that number is your Root Mean Square Error (RMSE)\n",
    "\n"
   ]
  }
 ],
 "metadata": {
  "colab": {
   "name": "RMSE for 10 year old.ipynb",
   "provenance": [],
   "version": "0.3.2"
  },
  "kernelspec": {
   "display_name": "Python 3",
   "language": "python",
   "name": "python3"
  },
  "language_info": {
   "codemirror_mode": {
    "name": "ipython",
    "version": 3
   },
   "file_extension": ".py",
   "mimetype": "text/x-python",
   "name": "python",
   "nbconvert_exporter": "python",
   "pygments_lexer": "ipython3",
   "version": "3.6.4"
  }
 },
 "nbformat": 4,
 "nbformat_minor": 2
}
