{
 "cells": [
  {
   "cell_type": "markdown",
   "metadata": {
    "colab_type": "text",
    "id": "view-in-github"
   },
   "source": [
    "[Lecture](https://youtu.be/Hsd3sLzGHoc)\n",
    "\n",
    "[View in Colaboratory](https://colab.research.google.com/github/schwaaweb/aimlds1_05/blob/master/Th05_CC--DJ--Coding_Challenge_4.ipynb)"
   ]
  },
  {
   "cell_type": "markdown",
   "metadata": {
    "colab_type": "text",
    "id": "Vim6ATB8ADUI"
   },
   "source": [
    "## Coding Challenge #4\n",
    "\n",
    "In this coding challenge, we will construct a bionomial distribution based on the concepts of Bernoulli trials.\n",
    "\n",
    "In a nutshell, a Bernoulli trial is an random experiment with 2 possible outcomes i.e. Success (Yes) or Failure (No). More details on the Bernoulli trial can be found on this website:\n",
    "\n",
    "https://en.wikipedia.org/wiki/Bernoulli_trial\n",
    "\n",
    "**Problem Statement**: Let's say the DCVC venture fund invests in 100 startups. Anywhere between 0 and 100 of the startups will succeed. \n",
    "\n",
    "**Ask?** Construct a biomial distribution of getting a given number of startup successes, given that the probability of a successful startup is p = 0.1\n",
    "\n",
    "\n",
    "We will leverage a step-by-step process to construct the bionomial distribution:\n",
    "\n",
    "**Step 1**: Write a function called conduct_binomial_trails\n",
    "\n",
    "The function takes in 2 arguments and returns the number of successes (i.e. return number_successful) out of n Bionomial trials, each of which has probability p of success. \n",
    "\n",
    "During each Bionomial trial, use the np.random.random() function, which returns a random number between zero and one and compare the *returned* random number to the propability of success. If the random number is less than the probability p of success, increment the \"number_successful\" variable by 1 during each *iteration* of the Bionimial Trial.\n",
    "\n",
    "**Step 2**: Set up a for loop with 10000 iterations to compute the number of successes per 100 investments using the the defined function and store the results returned from each call to the function in an array.  Each call to the defined function will pass in 2 arguments: *the number of trials n* - in this case 100 - and *the probability of success p* - in this case the probability of success 0.1\n",
    "\n",
    "\n",
    "**Step 3**: # Plot the histogram with the size of the array reprensenting the # of bin and label your axes accordingly\n",
    "\n",
    "Use: plt.hist(b_array, normed=True)\n",
    "\n",
    "In this case, b_array is the array you defined in \"Step 2\" aboe to store the number of successes from each call to the conduct_binomial_trails function\n",
    "\n",
    "Setting *normed to true* will esnure that the counts in the array are normalized to form a probability density\n",
    "\n",
    "\n",
    "\n",
    "\n"
   ]
  },
  {
   "cell_type": "markdown",
   "metadata": {},
   "source": [
    "**Step 1**: Write a function called conduct_binomial_trails\n",
    "\n",
    "The function takes in 2 arguments and returns the number of successes (i.e. return number_successful) out of n Bionomial trials, each of which has probability p of success. \n",
    "\n",
    "During each Bionomial trial, use the np.random.random() function, which returns a random number between zero and one and compare the *returned* random number to the propability of success. If the random number is less than the probability p of success, increment the \"number_successful\" variable by 1 during each *iteration* of the Bionimial Trial."
   ]
  },
  {
   "cell_type": "code",
   "execution_count": 1,
   "metadata": {},
   "outputs": [],
   "source": [
    "import numpy as np\n",
    "import matplotlib.pyplot as plt"
   ]
  },
  {
   "cell_type": "code",
   "execution_count": 2,
   "metadata": {},
   "outputs": [],
   "source": [
    "n = 100\n",
    "\n",
    "    "
   ]
  },
  {
   "cell_type": "code",
   "execution_count": 3,
   "metadata": {},
   "outputs": [],
   "source": [
    "def conduct_binomial_trials(p,n):\n",
    "    number_successful = 0\n",
    "    for i in range(n):\n",
    "        if np.random.random() < p:\n",
    "            number_successful += 1\n",
    "            #print('success')\n",
    "        #else:\n",
    "            #print('failed')\n",
    "    return number_successful"
   ]
  },
  {
   "cell_type": "code",
   "execution_count": 4,
   "metadata": {},
   "outputs": [
    {
     "data": {
      "text/plain": [
       "12"
      ]
     },
     "execution_count": 4,
     "metadata": {},
     "output_type": "execute_result"
    }
   ],
   "source": [
    "p0 = 0.1 # chances of success\n",
    "n0 = 100 # number of attempts\n",
    "conduct_binomial_trials(p0,n0)"
   ]
  },
  {
   "cell_type": "markdown",
   "metadata": {},
   "source": [
    "**Step 2**: Set up a for loop with 10000 iterations to compute the number of successes per 100 investments using the the defined function and store the results returned from each call to the function in an array.  Each call to the defined function will pass in 2 arguments: *the number of trials n* - in this case 100 - and *the probability of success p* - in this case the probability of success 0.1\n"
   ]
  },
  {
   "cell_type": "code",
   "execution_count": null,
   "metadata": {},
   "outputs": [],
   "source": [
    "p1 = 0.1 # chances of success\n",
    "n1 = 100 # number of attempts\n",
    "trials = []\n",
    "#trials = np.ndarray([])\n",
    "for i in range(10000):\n",
    "    t = conduct_binomial_trials(p1,n1)\n",
    "    #trials = np.append(trials,[t])\n",
    "    trials.append(t)\n",
    "\n",
    "print(trials)\n",
    "#plt.hist(trials,bins=range(min(trials),max(trials)),normed=True);"
   ]
  },
  {
   "cell_type": "markdown",
   "metadata": {},
   "source": [
    "**Step 3**: # Plot the histogram with the size of the array reprensenting the # of bin and label your axes accordingly\n",
    "\n",
    "Use: plt.hist(b_array, normed=True)\n",
    "\n",
    "In this case, b_array is the array you defined in \"Step 2\" aboe to store the number of successes from each call to the conduct_binomial_trails function\n",
    "\n",
    "Setting *normed to true* will esnure that the counts in the array are normalized to form a probability density\n",
    "\n"
   ]
  },
  {
   "cell_type": "code",
   "execution_count": 6,
   "metadata": {},
   "outputs": [
    {
     "data": {
      "image/png": "[encoded data removed]",
      "text/plain": [
       "<matplotlib.figure.Figure at 0x112424f60>"
      ]
     },
     "metadata": {},
     "output_type": "display_data"
    }
   ],
   "source": [
    "plt.hist(trials,bins=range(min(trials),max(trials)));"
   ]
  },
  {
   "cell_type": "code",
   "execution_count": 7,
   "metadata": {
    "scrolled": true
   },
   "outputs": [
    {
     "data": {
      "image/png": "[encoded data removed]",
      "text/plain": [
       "<matplotlib.figure.Figure at 0x1124606d8>"
      ]
     },
     "metadata": {},
     "output_type": "display_data"
    }
   ],
   "source": [
    "plt.hist(trials,bins=range(min(trials),max(trials)),normed=True);"
   ]
  },
  {
   "cell_type": "code",
   "execution_count": 8,
   "metadata": {},
   "outputs": [
    {
     "data": {
      "image/png": "[encoded data removed]",
      "text/plain": [
       "<matplotlib.figure.Figure at 0x113824198>"
      ]
     },
     "metadata": {},
     "output_type": "display_data"
    }
   ],
   "source": [
    "trials = []\n",
    "for i in range(10000):\n",
    "    t = conduct_binomial_trials(0.1,100)\n",
    "    trials.append(t)\n",
    "\n",
    "plt.hist(trials,bins=range(min(trials),max(trials)),normed=True);\n",
    "\n",
    "trials = []\n",
    "for i in range(10000):\n",
    "    t = conduct_binomial_trials(0.25,100)\n",
    "    trials.append(t)\n",
    "\n",
    "plt.hist(trials,bins=range(min(trials),max(trials)),normed=True);\n",
    "\n",
    "trials = []\n",
    "for i in range(10000):\n",
    "    t = conduct_binomial_trials(0.33,100)\n",
    "    trials.append(t)\n",
    "\n",
    "plt.hist(trials,bins=range(min(trials),max(trials)),normed=True);\n",
    "\n",
    "trials = []\n",
    "for i in range(10000):\n",
    "    t = conduct_binomial_trials(0.5,100)\n",
    "    trials.append(t)\n",
    "\n",
    "plt.hist(trials,bins=range(min(trials),max(trials)),normed=True);\n"
   ]
  },
  {
   "cell_type": "code",
   "execution_count": 9,
   "metadata": {},
   "outputs": [
    {
     "name": "stdout",
     "output_type": "stream",
     "text": [
      "On branch master\n",
      "Your branch is up to date with 'origin/master'.\n",
      "\n",
      "Changes not staged for commit:\n",
      "  (use \"git add <file>...\" to update what will be committed)\n",
      "  (use \"git checkout -- <file>...\" to discard changes in working directory)\n",
      "\n",
      "\t\u001b[31mmodified:   W05_CCS_Coding_Challenge_3.ipynb\u001b[m\n",
      "\n",
      "Untracked files:\n",
      "  (use \"git add <file>...\" to include in what will be committed)\n",
      "\n",
      "\t\u001b[31m.ipynb_checkpoints/firearms_rows-checkpoint.csv\u001b[m\n",
      "\t\u001b[31m.ipynb_checkpoints/mtcars-checkpoint.csv\u001b[m\n",
      "\n",
      "no changes added to commit (use \"git add\" and/or \"git commit -a\")\n"
     ]
    }
   ],
   "source": [
    "!git status"
   ]
  },
  {
   "cell_type": "code",
   "execution_count": 93,
   "metadata": {},
   "outputs": [],
   "source": [
    "!git add .`"
   ]
  },
  {
   "cell_type": "code",
   "execution_count": 94,
   "metadata": {},
   "outputs": [
    {
     "name": "stdout",
     "output_type": "stream",
     "text": [
      "On branch master\n",
      "Your branch is up to date with 'origin/master'.\n",
      "\n",
      "Changes to be committed:\n",
      "  (use \"git reset HEAD <file>...\" to unstage)\n",
      "\n",
      "\t\u001b[32mmodified:   .ipynb_checkpoints/Th05_CC--DJ--Coding_Challenge_4-checkpoint.ipynb\u001b[m\n",
      "\t\u001b[32mmodified:   Th05_CC--DJ--Coding_Challenge_4.ipynb\u001b[m\n",
      "\n"
     ]
    }
   ],
   "source": [
    "!git status"
   ]
  },
  {
   "cell_type": "code",
   "execution_count": 95,
   "metadata": {},
   "outputs": [
    {
     "name": "stdout",
     "output_type": "stream",
     "text": [
      "[master e1ce7c3] made adjustments to git commands at end of the file\n",
      " 2 files changed, 872 insertions(+), 856 deletions(-)\n",
      " rewrite .ipynb_checkpoints/Th05_CC--DJ--Coding_Challenge_4-checkpoint.ipynb (82%)\n",
      " rewrite Th05_CC--DJ--Coding_Challenge_4.ipynb (82%)\n"
     ]
    }
   ],
   "source": [
    "!git commit -am \"made adjustments to git commands at end of the file\""
   ]
  },
  {
   "cell_type": "code",
   "execution_count": 96,
   "metadata": {},
   "outputs": [
    {
     "name": "stdout",
     "output_type": "stream",
     "text": [
      "On branch master\n",
      "Your branch is ahead of 'origin/master' by 1 commit.\n",
      "  (use \"git push\" to publish your local commits)\n",
      "\n",
      "nothing to commit, working tree clean\n"
     ]
    }
   ],
   "source": [
    "!git status"
   ]
  },
  {
   "cell_type": "code",
   "execution_count": 97,
   "metadata": {},
   "outputs": [
    {
     "name": "stdout",
     "output_type": "stream",
     "text": [
      "Counting objects: 4, done.\n",
      "Delta compression using up to 2 threads.\n",
      "Compressing objects: 100% (4/4), done.\n",
      "Writing objects: 100% (4/4), 24.57 KiB | 4.09 MiB/s, done.\n",
      "Total 4 (delta 2), reused 0 (delta 0)\n",
      "remote: Resolving deltas: 100% (2/2), completed with 2 local objects.\u001b[K\n",
      "To github.com:schwaaweb/aimlds1_05.git\n",
      "   6c952d2..e1ce7c3  master -> master\n",
      "Thu May  3 13:10:16 EDT 2018\n"
     ]
    }
   ],
   "source": [
    "!git push && date"
   ]
  },
  {
   "cell_type": "code",
   "execution_count": 98,
   "metadata": {},
   "outputs": [
    {
     "name": "stdout",
     "output_type": "stream",
     "text": [
      "On branch master\n",
      "Your branch is up to date with 'origin/master'.\n",
      "\n",
      "nothing to commit, working tree clean\n",
      "Thu May  3 13:10:16 EDT 2018\n"
     ]
    }
   ],
   "source": [
    "!git status && date"
   ]
  },
  {
   "cell_type": "code",
   "execution_count": null,
   "metadata": {},
   "outputs": [],
   "source": [
    "    "
   ]
  }
 ],
 "metadata": {
  "colab": {
   "name": "Coding Challenge #4.ipynb",
   "provenance": [],
   "version": "0.3.2"
  },
  "kernelspec": {
   "display_name": "Python 3",
   "language": "python",
   "name": "python3"
  },
  "language_info": {
   "codemirror_mode": {
    "name": "ipython",
    "version": 3
   },
   "file_extension": ".py",
   "mimetype": "text/x-python",
   "name": "python",
   "nbconvert_exporter": "python",
   "pygments_lexer": "ipython3",
   "version": "3.6.4"
  }
 },
 "nbformat": 4,
 "nbformat_minor": 2
}
