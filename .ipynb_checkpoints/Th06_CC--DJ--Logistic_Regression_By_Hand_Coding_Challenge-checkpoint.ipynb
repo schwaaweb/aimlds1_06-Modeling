{
 "cells": [
  {
   "cell_type": "markdown",
   "metadata": {
    "colab_type": "text",
    "id": "view-in-github"
   },
   "source": [
    "[View in Colaboratory](https://colab.research.google.com/github/schwaaweb/aimlds1_06-TheMachineLearningFramework/blob/master/Th06_CC--DJ--Logistic_Regression_By_Hand_Coding_Challenge.ipynb)"
   ]
  },
  {
   "cell_type": "markdown",
   "metadata": {
    "colab_type": "text",
    "id": "FdAMsssKUtjs"
   },
   "source": [
    "# Logistic Regression By Hand Coding Challenge\n",
    "\n",
    "Logistic Regression computes the Maximum Likelihood Estimate (MLE) $p$ of the coefficients $w$ and the variable $x$.\n",
    "\n",
    "$$ p_x = \\frac{1}{1+exp^{-(w^tx)}} $$\n",
    "\n",
    "\n",
    "The MLE method for Logistic Regression is described in psuedocode as:\n",
    "\n",
    "```\n",
    "w = [0,...,0]\n",
    "for each epoch:\n",
    "  p_epoch = 1/(1+e^(-w^tx))\n",
    "  for each x_i:\n",
    "    for each w_i:\n",
    "      w_i = MLE(w_i,x_i,y_i,p_x,alpha)\n",
    "```  \n",
    "\n",
    "The maximum likelihood method `MLE` is computed: $w = w + \\alpha(y-p)p(1-p)x$\n",
    "\n",
    "$\\alpha$ = the learning rate \n",
    "\n",
    "Compute the Logistic Regression coefficients $w$ for the following dataset:"
   ]
  },
  {
   "cell_type": "code",
   "execution_count": null,
   "metadata": {
    "colab": {},
    "colab_type": "code",
    "id": "LliiuD0zUqjH"
   },
   "outputs": [],
   "source": [
    "# LAMBDA SCHOOL\n",
    "#\n",
    "# MACHINE LEARNING\n",
    "#\n",
    "# MIT LICENSE\n",
    "\n",
    "import numpy as np\n",
    "\n",
    "alpha = 0.3\n",
    "epocs = 2\n",
    "x = np.array([1,3])\n",
    "y = np.array([0,1])\n",
    "w = np.array([0.0,0.0]) # weights\n",
    "\n",
    "def proba(x,y,w):\n",
    "  return 1/(1+np.exp(-w.dot(ones(x))))\n",
    "\n",
    "def ones(x):\n",
    "  return np.column_stack((np.ones(len(x)),x))\n",
    "\n",
    "def MLE(w,x,y,p,a):\n",
    "  return w + alpha*(y-p)*p*(1-p)*x\n",
    "\n",
    "# Use the above pseudo code to calculate w for each epoch.\n",
    "\n",
    "# Your code here:\n",
    "\n",
    "p = proba(x,y,w)\n",
    "print(p)\n"
   ]
  },
  {
   "cell_type": "code",
   "execution_count": null,
   "metadata": {},
   "outputs": [],
   "source": []
  }
 ],
 "metadata": {
  "colab": {
   "collapsed_sections": [],
   "name": "Logistic Regression By Hand Coding Challenge.ipynb",
   "provenance": [],
   "version": "0.3.2"
  },
  "kernelspec": {
   "display_name": "Python 3",
   "language": "python",
   "name": "python3"
  },
  "language_info": {
   "codemirror_mode": {
    "name": "ipython",
    "version": 3
   },
   "file_extension": ".py",
   "mimetype": "text/x-python",
   "name": "python",
   "nbconvert_exporter": "python",
   "pygments_lexer": "ipython3",
   "version": "3.6.4"
  }
 },
 "nbformat": 4,
 "nbformat_minor": 2
}
