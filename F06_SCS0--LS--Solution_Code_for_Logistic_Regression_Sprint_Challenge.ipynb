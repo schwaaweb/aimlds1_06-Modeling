{
  "nbformat": 4,
  "nbformat_minor": 0,
  "metadata": {
    "colab": {
      "name": "Solution Code for Logistic Regression Sprint Challenge.ipynb",
      "version": "0.3.2",
      "provenance": [],
      "collapsed_sections": []
    },
    "kernelspec": {
      "name": "python3",
      "display_name": "Python 3"
    }
  },
  "cells": [
    {
      "cell_type": "markdown",
      "metadata": {
        "id": "view-in-github",
        "colab_type": "text"
      },
      "source": [
        "[View in Colaboratory](https://colab.research.google.com/github/schwaaweb/aimlds1_06-Modeling/blob/master/F06_SCS0--LS--Solution_Code_for_Logistic_Regression_Sprint_Challenge.ipynbSolution_Code_for_Logistic_Regression_Sprint_Challenge.ipynb)"
      ]
    },
    {
      "metadata": {
        "id": "aD8Yb0P8D04e",
        "colab_type": "text"
      },
      "cell_type": "markdown",
      "source": [
        "# Logistic Regression Sprint Challenge\n",
        "\n",
        "Objectives:\n",
        "* Create a training set and train a Logistic Regression model with it\n",
        "* Predict values for $\\hat{y}$ using a test set\n",
        "* Calculate sum-of-squared error $SSE(y,\\hat{y})$\n",
        "* Calculate the error rate of a model as a percentage\n",
        "\n",
        "Dataset: https://www.dropbox.com/s/bnwfu81bjpf22hp/logistic_regression.csv?raw=1"
      ]
    },
    {
      "metadata": {
        "id": "aq9MJvtTE6lY",
        "colab_type": "text"
      },
      "cell_type": "markdown",
      "source": [
        "### 1. Compute Linear Regression Model\n",
        "\n",
        "Create a training set and train a Logistic Regression model with it"
      ]
    },
    {
      "metadata": {
        "id": "I8nqyUEREiil",
        "colab_type": "code",
        "colab": {}
      },
      "cell_type": "code",
      "source": [
        "# Import necessary libraries\n",
        "import numpy as np\n",
        "import pandas as pd\n",
        "import matplotlib.pyplot as plt\n",
        "\n",
        "from sklearn.linear_model import LogisticRegression\n",
        "from sklearn.model_selection import train_test_split"
      ],
      "execution_count": 0,
      "outputs": []
    },
    {
      "metadata": {
        "id": "EAM0kHmH_Lyv",
        "colab_type": "code",
        "colab": {
          "base_uri": "https://localhost:8080/",
          "height": 204
        },
        "outputId": "867dcf22-3919-47ee-aa69-f4ecc294589d"
      },
      "cell_type": "code",
      "source": [
        "data = pd.read_csv('https://www.dropbox.com/s/bnwfu81bjpf22hp/logistic_regression.csv?raw=1')\n",
        "\n",
        "# Be sure to check the data.\n",
        "# This dataset has a dummy column that doubles the indices, so we drop that column.\n",
        "data = data.drop('Unnamed: 0', axis=1)\n",
        "data.head()"
      ],
      "execution_count": 0,
      "outputs": [
        {
          "output_type": "execute_result",
          "data": {
            "text/html": [
              "<div>\n",
              "<style scoped>\n",
              "    .dataframe tbody tr th:only-of-type {\n",
              "        vertical-align: middle;\n",
              "    }\n",
              "\n",
              "    .dataframe tbody tr th {\n",
              "        vertical-align: top;\n",
              "    }\n",
              "\n",
              "    .dataframe thead th {\n",
              "        text-align: right;\n",
              "    }\n",
              "</style>\n",
              "<table border=\"1\" class=\"dataframe\">\n",
              "  <thead>\n",
              "    <tr style=\"text-align: right;\">\n",
              "      <th></th>\n",
              "      <th>x1</th>\n",
              "      <th>x2</th>\n",
              "      <th>y</th>\n",
              "    </tr>\n",
              "  </thead>\n",
              "  <tbody>\n",
              "    <tr>\n",
              "      <th>0</th>\n",
              "      <td>2.903104</td>\n",
              "      <td>3.281307</td>\n",
              "      <td>0.0</td>\n",
              "    </tr>\n",
              "    <tr>\n",
              "      <th>1</th>\n",
              "      <td>3.838055</td>\n",
              "      <td>2.758941</td>\n",
              "      <td>0.0</td>\n",
              "    </tr>\n",
              "    <tr>\n",
              "      <th>2</th>\n",
              "      <td>1.407508</td>\n",
              "      <td>1.485069</td>\n",
              "      <td>0.0</td>\n",
              "    </tr>\n",
              "    <tr>\n",
              "      <th>3</th>\n",
              "      <td>0.332565</td>\n",
              "      <td>1.473001</td>\n",
              "      <td>0.0</td>\n",
              "    </tr>\n",
              "    <tr>\n",
              "      <th>4</th>\n",
              "      <td>2.756526</td>\n",
              "      <td>2.390291</td>\n",
              "      <td>0.0</td>\n",
              "    </tr>\n",
              "  </tbody>\n",
              "</table>\n",
              "</div>"
            ],
            "text/plain": [
              "         x1        x2    y\n",
              "0  2.903104  3.281307  0.0\n",
              "1  3.838055  2.758941  0.0\n",
              "2  1.407508  1.485069  0.0\n",
              "3  0.332565  1.473001  0.0\n",
              "4  2.756526  2.390291  0.0"
            ]
          },
          "metadata": {
            "tags": []
          },
          "execution_count": 4
        }
      ]
    },
    {
      "metadata": {
        "id": "e2cL0P5L_K55",
        "colab_type": "code",
        "colab": {}
      },
      "cell_type": "code",
      "source": [
        "# Use train_test_split to create a training set\n",
        "\n",
        "# We can wrangle the data to have the appropriate shape needed by train_test_split in multiple ways. Here are a few:*\n",
        "\n",
        "# Way One:\n",
        "X = data[['x1', 'x2']].as_matrix()\n",
        "Y = data['y'].values\n",
        "\n",
        "# Way Two:\n",
        "X = data.drop('y', axis=1)\n",
        "Y = data.y\n",
        "\n",
        "# Now we can split the data. We can set the portion of the data we want in the test size, and we'll also want to \n",
        "# designate the seed for the random state so our results are reproducible.\n",
        "x_train, x_test, y_train, y_test = train_test_split(X, Y, test_size=0.3, random_state=42)\n",
        "\n",
        "# *not an exhaustive list..."
      ],
      "execution_count": 0,
      "outputs": []
    },
    {
      "metadata": {
        "id": "gW4HjwxtAHOv",
        "colab_type": "code",
        "colab": {
          "base_uri": "https://localhost:8080/",
          "height": 85
        },
        "outputId": "04e6533a-6277-442b-ca65-7723a9cd5905"
      },
      "cell_type": "code",
      "source": [
        "# Create and train(fit) the model\n",
        "model = LogisticRegression()\n",
        "model.fit(x_train, y_train)"
      ],
      "execution_count": 0,
      "outputs": [
        {
          "output_type": "execute_result",
          "data": {
            "text/plain": [
              "LogisticRegression(C=1.0, class_weight=None, dual=False, fit_intercept=True,\n",
              "          intercept_scaling=1, max_iter=100, multi_class='ovr', n_jobs=1,\n",
              "          penalty='l2', random_state=None, solver='liblinear', tol=0.0001,\n",
              "          verbose=0, warm_start=False)"
            ]
          },
          "metadata": {
            "tags": []
          },
          "execution_count": 20
        }
      ]
    },
    {
      "metadata": {
        "id": "jSfpHHfJFPc5",
        "colab_type": "text"
      },
      "cell_type": "markdown",
      "source": [
        "### 2. Predict values for $\\hat{y}$ for the test set"
      ]
    },
    {
      "metadata": {
        "id": "x3K306_pFUQc",
        "colab_type": "code",
        "colab": {}
      },
      "cell_type": "code",
      "source": [
        "# Using the model we just trained, we predict classifications for the test data.\n",
        "y_hat = model.predict(x_test)"
      ],
      "execution_count": 0,
      "outputs": []
    },
    {
      "metadata": {
        "id": "nDEdBrtYFjEr",
        "colab_type": "text"
      },
      "cell_type": "markdown",
      "source": [
        "### 3. Calculate SSE for the test-set\n",
        "\n",
        "To calculate this, we use the definition for the sum of squared errors:\n",
        "\n",
        "$\\qquad \\sum (y_i-\\hat{y}_i)^2$\n",
        "\n",
        "Which, for all practical intents and purposes, simply counts the number of times our trained logit model mis-classifies a point in the test data."
      ]
    },
    {
      "metadata": {
        "id": "B73O-XcrF9Wd",
        "colab_type": "code",
        "colab": {
          "base_uri": "https://localhost:8080/",
          "height": 34
        },
        "outputId": "e27f2fea-bc79-450f-efe1-64bb355c4b62"
      },
      "cell_type": "code",
      "source": [
        "# Calculate SSE\n",
        "sse = np.sum(np.power((y_hat - y_test), 2))\n",
        "\n",
        "# Print SSE\n",
        "print('SSE:', sse)"
      ],
      "execution_count": 0,
      "outputs": [
        {
          "output_type": "stream",
          "text": [
            "SSE: 1.0\n"
          ],
          "name": "stdout"
        }
      ]
    },
    {
      "metadata": {
        "id": "QS0KgX-_QbX6",
        "colab_type": "text"
      },
      "cell_type": "markdown",
      "source": [
        "### 4. Calculate the error rate of the model as a percentage."
      ]
    },
    {
      "metadata": {
        "id": "t2xGVuYcQfAo",
        "colab_type": "code",
        "colab": {
          "base_uri": "https://localhost:8080/",
          "height": 51
        },
        "outputId": "c3c7d832-dded-4f50-82d4-07e42580296e"
      },
      "cell_type": "code",
      "source": [
        "# Calculate percentage\n",
        "error = sse / len(y_test)\n",
        "\n",
        "# Print percentage\n",
        "print('Percent error: {:.0f}%'.format(error*100))"
      ],
      "execution_count": 0,
      "outputs": [
        {
          "output_type": "stream",
          "text": [
            "12\n",
            "Percent error: 8%\n"
          ],
          "name": "stdout"
        }
      ]
    },
    {
      "metadata": {
        "id": "RpuQZntbhJ60",
        "colab_type": "text"
      },
      "cell_type": "markdown",
      "source": [
        "The percent error is just another way of saying our logit classifier misclassified 1 out of the 12 data points in the test data set. "
      ]
    }
  ]
}
