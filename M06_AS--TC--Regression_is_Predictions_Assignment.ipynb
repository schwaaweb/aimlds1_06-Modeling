{
  "nbformat": 4,
  "nbformat_minor": 0,
  "metadata": {
    "colab": {
      "name": "Solution of Regression Assignment - Master.ipynb",
      "version": "0.3.2",
      "provenance": [],
      "collapsed_sections": []
    },
    "kernelspec": {
      "name": "python3",
      "display_name": "Python 3"
    }
  },
  "cells": [
    {
      "cell_type": "markdown",
      "metadata": {
        "id": "view-in-github",
        "colab_type": "text"
      },
      "source": [
        "[View in Colaboratory](https://colab.research.google.com/github/schwaaweb/aimlds1_06-TheMachineLearningFramework/blob/master/M06_AS--TC--Regression_is_Predictions_Assignment.ipynb)"
      ]
    },
    {
      "metadata": {
        "id": "S2aqleAFA8kS",
        "colab_type": "text"
      },
      "cell_type": "markdown",
      "source": [
        "# Regression is Prediction\n",
        "\n",
        "## Linear Regression\n",
        "\n",
        "You all know the equation for a line, $y = mx+b$, or in the language of ML $f(x) = mx+b$. Two points are \"produced\" by $f(x)$:"
      ]
    },
    {
      "metadata": {
        "id": "9vyJjA4fA8kT",
        "colab_type": "code",
        "colab": {
          "base_uri": "https://localhost:8080/",
          "height": 161
        },
        "outputId": "13ef2723-f937-4be1-ba07-7ce239ffb21e"
      },
      "cell_type": "code",
      "source": [
        "import numpy as np\n",
        "import matplotlib.pyplot as plt\n",
        "\n",
        "def plot_two():\n",
        "  x = [3,8]\n",
        "  y = [4,7]\n",
        "  plt.figure(figsize=(3,2))\n",
        "  plt.plot(x,y,'o')\n",
        "  plt.xlim(0,10)\n",
        "  plt.ylim(0,10)\n",
        "\n",
        "plot_two()"
      ],
      "execution_count": 4,
      "outputs": [
        {
          "output_type": "display_data",
          "data": {
            "image/png": "[encoded data removed]",
            "text/plain": [
              "<matplotlib.figure.Figure at 0x7ff64d9e4438>"
            ]
          },
          "metadata": {
            "tags": []
          }
        }
      ]
    },
    {
      "metadata": {
        "id": "PNw0fWyv7bwf",
        "colab_type": "text"
      },
      "cell_type": "markdown",
      "source": [
        "It is easy to solve $f(x) = mx+b$ for the above two points. We don't have to! There are many implementations of linear regression in the `python` universe."
      ]
    },
    {
      "metadata": {
        "id": "Vk-Ylxgu6rUY",
        "colab_type": "code",
        "colab": {
          "base_uri": "https://localhost:8080/",
          "height": 185
        },
        "outputId": "b547989d-cc3d-4da9-a9c0-964b479eba0c"
      },
      "cell_type": "code",
      "source": [
        "p = np.polyfit(x,y,1)"
      ],
      "execution_count": 5,
      "outputs": [
        {
          "output_type": "error",
          "ename": "NameError",
          "evalue": "ignored",
          "traceback": [
            "\u001b[0;31m---------------------------------------------------------------------------\u001b[0m",
            "\u001b[0;31mNameError\u001b[0m                                 Traceback (most recent call last)",
            "\u001b[0;32m<ipython-input-5-8c09c7bb9d0b>\u001b[0m in \u001b[0;36m<module>\u001b[0;34m()\u001b[0m\n\u001b[0;32m----> 1\u001b[0;31m \u001b[0mp\u001b[0m \u001b[0;34m=\u001b[0m \u001b[0mnp\u001b[0m\u001b[0;34m.\u001b[0m\u001b[0mpolyfit\u001b[0m\u001b[0;34m(\u001b[0m\u001b[0mx\u001b[0m\u001b[0;34m,\u001b[0m\u001b[0my\u001b[0m\u001b[0;34m,\u001b[0m\u001b[0;36m1\u001b[0m\u001b[0;34m)\u001b[0m\u001b[0;34m\u001b[0m\u001b[0m\n\u001b[0m",
            "\u001b[0;31mNameError\u001b[0m: name 'x' is not defined"
          ]
        }
      ]
    },
    {
      "metadata": {
        "id": "k0jIFnAz7-yN",
        "colab_type": "text"
      },
      "cell_type": "markdown",
      "source": [
        "So, $f(x) = \\frac{3}{5}x + 2\\frac{1}{5}$"
      ]
    },
    {
      "metadata": {
        "id": "IwiktkBW7bkv",
        "colab_type": "code",
        "colab": {
          "base_uri": "https://localhost:8080/",
          "height": 161
        },
        "outputId": "75704178-6098-49d9-ac6a-853d56788218"
      },
      "cell_type": "code",
      "source": [
        "# Really weird - the line drawn in this graph doesn't quite intersect the points\n",
        "# how I expected. I tweaked the values to make it suit my Mark-One-Eyeball\n",
        "# better. I suspect that the discrepancy is actually caused by the graph.\n",
        "def f(x):\n",
        "  return 0.595*x + 2.16\n",
        "plot_two()\n",
        "xs = np.linspace(0,10,11)\n",
        "plt.plot(xs,f(xs),c='g');"
      ],
      "execution_count": 0,
      "outputs": [
        {
          "output_type": "display_data",
          "data": {
            "image/png": "[encoded data removed]",
            "text/plain": [
              "<matplotlib.figure.Figure at 0x7f3d894e5be0>"
            ]
          },
          "metadata": {
            "tags": []
          }
        }
      ]
    },
    {
      "metadata": {
        "id": "wwcQAbo3-o9T",
        "colab_type": "text"
      },
      "cell_type": "markdown",
      "source": [
        "## Co-Linearity\n",
        "\n",
        "The above two points we used to generate $f(x)$ lie on the same line. Any pair of points lie on the same line - a line is defined by two points. Every other point on the line is co-linear with the first two. If we had three points all defined by $f(x)$, the result of `np.polyfit` would be the same.\n",
        "\n",
        "What about when the points are not co-linear, but instead are merely covariant?"
      ]
    },
    {
      "metadata": {
        "id": "e-sR8J688mUt",
        "colab_type": "code",
        "colab": {
          "base_uri": "https://localhost:8080/",
          "height": 406
        },
        "outputId": "1457b075-c955-4653-e183-73259cbbe978"
      },
      "cell_type": "code",
      "source": [
        "def plot_many(points):\n",
        "  plt.scatter(*points.T)\n",
        "  plt.xlim(0,25)\n",
        "  plt.ylim(0,50)\n",
        "  \n",
        "points = np.random.multivariate_normal([15,15],[[12,6],[1,6]],50)\n",
        "plot_many(points)"
      ],
      "execution_count": 0,
      "outputs": [
        {
          "output_type": "stream",
          "text": [
            "/usr/local/lib/python3.6/dist-packages/ipykernel_launcher.py:6: RuntimeWarning: covariance is not positive-semidefinite.\n",
            "  \n"
          ],
          "name": "stderr"
        },
        {
          "output_type": "display_data",
          "data": {
            "image/png": "[encoded data removed]",
            "text/plain": [
              "<matplotlib.figure.Figure at 0x7f3d88f07cc0>"
            ]
          },
          "metadata": {
            "tags": []
          }
        }
      ]
    },
    {
      "metadata": {
        "id": "DKPdnzQZAZek",
        "colab_type": "code",
        "colab": {
          "base_uri": "https://localhost:8080/",
          "height": 34
        },
        "outputId": "6c1d2aa7-86fb-4c6a-e77c-087f3349d291"
      },
      "cell_type": "code",
      "source": [
        "x, y = points.T\n",
        "p2 = np.polyfit(x,y,1)\n",
        "print(p2)"
      ],
      "execution_count": 0,
      "outputs": [
        {
          "output_type": "stream",
          "text": [
            "[0.38442724 8.96567866]\n"
          ],
          "name": "stdout"
        }
      ]
    },
    {
      "metadata": {
        "id": "PHPM-ud4BwE2",
        "colab_type": "code",
        "colab": {
          "base_uri": "https://localhost:8080/",
          "height": 351
        },
        "outputId": "c45e06e5-9e46-4882-b812-7d412ef5f655"
      },
      "cell_type": "code",
      "source": [
        "def f2(x):\n",
        "  return p2[0] * x + p2[1]\n",
        "plot_many(points)\n",
        "nx = np.linspace(0,25,26)\n",
        "plt.plot(nx,f2(nx),c='r');\n",
        "  "
      ],
      "execution_count": 0,
      "outputs": [
        {
          "output_type": "display_data",
          "data": {
            "image/png": "[encoded data removed]",
            "text/plain": [
              "<matplotlib.figure.Figure at 0x7f3d88ee29b0>"
            ]
          },
          "metadata": {
            "tags": []
          }
        }
      ]
    },
    {
      "metadata": {
        "id": "6d-s2xCt9GNa",
        "colab_type": "text"
      },
      "cell_type": "markdown",
      "source": [
        "# Regression by Gradient Descent\n",
        "\n",
        "Linear regression is implemented by a multitude of libraries:\n",
        "\n",
        "[A bunch of ways](https://medium.freecodecamp.org/data-science-with-python-8-ways-to-do-linear-regression-and-measure-their-speed-b5577d75f8b)\n",
        "\n",
        "You will never need to implement linear regression by hand, except right now! Linear regression is great because it has an analytic solution to the system of equations $Ax = b$, which can be computed via matrix multiplies:\n",
        "\n",
        "$x = (A^TA)^{-1}A^Tb$\n",
        "\n",
        "However, it is also trivial to compute the same solution via gradient descent. Remember those function gradients we studied at the beginning of class?\n",
        "\n"
      ]
    },
    {
      "metadata": {
        "id": "CEir2hIh8-fs",
        "colab_type": "code",
        "colab": {
          "base_uri": "https://localhost:8080/",
          "height": 417
        },
        "outputId": "d347f07c-eb12-434b-ac4c-c7a1edac370e"
      },
      "cell_type": "code",
      "source": [
        "# LAMBDA SCHOOL\n",
        "# \n",
        "# MACHINE LEARNING\n",
        "#\n",
        "# MIT LICENSE\n",
        "\n",
        "import numpy as np\n",
        "import matplotlib.pyplot as plt\n",
        "\n",
        "points = np.random.multivariate_normal([10,10],[[10,10],[0,10]],40)\n",
        "x,y = points.T\n",
        "solution = np.polyfit(x,y,1)\n",
        "plt.plot(x,y,marker='.',lineStyle=\"None\");\n",
        "plt.plot(x,x*solution[0] + solution[1],c='r');\n",
        "plt.title('Cool line bro');"
      ],
      "execution_count": 0,
      "outputs": [
        {
          "output_type": "stream",
          "text": [
            "/usr/local/lib/python3.6/dist-packages/ipykernel_launcher.py:5: RuntimeWarning: covariance is not positive-semidefinite.\n",
            "  \"\"\"\n"
          ],
          "name": "stderr"
        },
        {
          "output_type": "display_data",
          "data": {
            "image/png": "[encoded data removed]",
            "text/plain": [
              "<matplotlib.figure.Figure at 0x7f3d88e5eeb8>"
            ]
          },
          "metadata": {
            "tags": []
          }
        }
      ]
    },
    {
      "metadata": {
        "id": "C0TbfsLj7AQo",
        "colab_type": "text"
      },
      "cell_type": "markdown",
      "source": [
        "The solution is just a pair of scalars, $m$ and $b$. What if we pick them at random?\n",
        "\n",
        "```\n",
        "# This is formatted as code\n",
        "```\n",
        "\n"
      ]
    },
    {
      "metadata": {
        "id": "BzWVI4W4HQH5",
        "colab_type": "code",
        "colab": {
          "base_uri": "https://localhost:8080/",
          "height": 347
        },
        "outputId": "efbe7c6e-445e-4e31-deb6-833ebb51f291"
      },
      "cell_type": "code",
      "source": [
        "m = np.random.random()\n",
        "b = np.random.random()\n",
        "\n",
        "# How is this solution?\n",
        "plt.plot(x,y,marker='.',lineStyle=\"None\");\n",
        "plt.plot(x,x*solution[0] + solution[1],c='r');\n",
        "plt.plot(x,m*x + b,c='g');"
      ],
      "execution_count": 0,
      "outputs": [
        {
          "output_type": "display_data",
          "data": {
            "image/png": "[encoded data removed]",
            "text/plain": [
              "<matplotlib.figure.Figure at 0x7f3d88de63c8>"
            ]
          },
          "metadata": {
            "tags": []
          }
        }
      ]
    },
    {
      "metadata": {
        "id": "kjYohDH1HXTu",
        "colab_type": "text"
      },
      "cell_type": "markdown",
      "source": [
        "## Root-mean Squared Error (RMSE)\n",
        "\n",
        "RMSE is the most common \"loss function\", that is, a way of measuring the error in a model prediction. The error of a prediction is the difference between the values it predicted and the values that were expected.\n",
        "\n",
        "RMSE is calculated:\n",
        "\n",
        "$RMSE = \\sqrt{\\frac{\\sum_{t=1}^T \\left( \\hat{y_t} - y_t \\right) ^2}{T}}$\n",
        "\n",
        "$\\hat{y_t}$ is the prediction of the model for a particular sample $t$. $y_t$ is the true label for sample $t$.\n",
        "\n",
        "Linear regression is the proess of minimizing the least-squared error between the line-of-regression and the sample points.\n",
        "\n",
        "If we calculate `polyfit` as above using `full=True`, it will return the error of the model computed by polyfit."
      ]
    },
    {
      "metadata": {
        "id": "I0XEJjxqHeer",
        "colab_type": "code",
        "colab": {
          "base_uri": "https://localhost:8080/",
          "height": 104
        },
        "outputId": "697e6f25-f6a1-481e-c014-0bcbce0540be"
      },
      "cell_type": "code",
      "source": [
        "coefficients, residual, solution_rank, solution_singular_values, rcond_epsilon = np.polyfit(x,y,1,full=True)\n",
        "print(coefficients)\n",
        "print(residual)\n",
        "print(solution_rank)\n",
        "print(solution_singular_values)\n",
        "print(rcond_epsilon)"
      ],
      "execution_count": 0,
      "outputs": [
        {
          "output_type": "stream",
          "text": [
            "[0.50049621 5.29003006]\n",
            "[434.46754522]\n",
            "2\n",
            "[1.40304743 0.17736381]\n",
            "8.881784197001252e-15\n"
          ],
          "name": "stdout"
        }
      ]
    },
    {
      "metadata": {
        "id": "eGaa-9_wLxDz",
        "colab_type": "text"
      },
      "cell_type": "markdown",
      "source": [
        "Of particular interest here is the residual - this number is the MSE of the solution returned by `polyfit`. Can we reproduce it?\n",
        "\n",
        "What about the residual of the line we just guessed at?\n",
        "\n",
        "---\n",
        "\n"
      ]
    },
    {
      "metadata": {
        "id": "c-g0kllfL32-",
        "colab_type": "code",
        "colab": {
          "base_uri": "https://localhost:8080/",
          "height": 52
        },
        "outputId": "430dad35-033d-46a1-8328-7370b999cc4b"
      },
      "cell_type": "code",
      "source": [
        "confirm_residual = np.sum((x*coefficients[0] + coefficients[1] - y)**2)\n",
        "print(confirm_residual)\n",
        "\n",
        "random_residual = np.sum((x*m+b-y)**2)\n",
        "print(random_residual)"
      ],
      "execution_count": 0,
      "outputs": [
        {
          "output_type": "stream",
          "text": [
            "434.46754522407923\n",
            "1285.8778846164646\n"
          ],
          "name": "stdout"
        }
      ]
    },
    {
      "metadata": {
        "id": "DHECA6TiObPq",
        "colab_type": "text"
      },
      "cell_type": "markdown",
      "source": [
        "### Loss function\n",
        "\n",
        "The goal of gradient descent is to minimize the loss function - in this case, the loss function being RMSE of our estimated line. Without `polyfit`, we'd try to minimize the loss function all the way to 0, but `polyfit` has already calculated the best possible result! $MSE = 419$, $RMSE = \\sqrt{419}$.\n",
        "\n",
        "## Gradient Descent\n",
        "\n",
        "`polyfit` determined that the best possible solution for $f(x) = mx+b$ is `coefficients[0] * x + coefficients[1]`. For any other value of `m` and `b`, the error (or RMSE), will be larger. The error function, RMSE is $\\sqrt(mx+b-y)^2$"
      ]
    },
    {
      "metadata": {
        "id": "bBxhZyAQcy2e",
        "colab_type": "code",
        "colab": {
          "base_uri": "https://localhost:8080/",
          "height": 348
        },
        "outputId": "f52c85e9-cd6f-4f8f-e611-0391b1662176"
      },
      "cell_type": "code",
      "source": [
        "def mse(x,prediction_m,prediction_b,true_m,true_b):\n",
        "  width = len(prediction_m)\n",
        "  height = len(prediction_m[0])\n",
        "  result = np.zeros(width*height).reshape(width,height)\n",
        "  for row in range(width):\n",
        "    for col in range(height):\n",
        "      # calculate the RMSE of prediction_m/b, store in result\n",
        "      m = prediction_m[row][col]\n",
        "      b = prediction_b[row][col]\n",
        "      result[row][col] = np.sum(((x*m+b)-(x*true_m+true_b))**2)\n",
        "  return result\n",
        "\n",
        "m_range = np.linspace(coefficients[0]*0.5, 2*coefficients[0], 15)\n",
        "b_range = np.linspace(coefficients[1]*0.5, 2*coefficients[1], 15)\n",
        "mm, bb = np.meshgrid(m_range,b_range)\n",
        "Z = mse(x,mm,bb,coefficients[0],coefficients[1])\n",
        "\n",
        "import matplotlib.pyplot as plt\n",
        "from mpl_toolkits.mplot3d.axes3d import Axes3D, get_test_data\n",
        "from matplotlib import cm\n",
        "import numpy as np\n",
        "\n",
        "fig = plt.figure(figsize=plt.figaspect(0.5))\n",
        "ax = fig.add_subplot(1, 2, 1, projection='3d')\n",
        "surf = ax.plot_surface(mm, bb, Z,  cmap=cm.coolwarm,\\\n",
        "                       linewidth=0, antialiased=False)\n",
        "ax.set_xlabel('m')\n",
        "ax.set_ylabel('b')\n",
        "ax.set_zlabel('residual')\n",
        "ax.set_title('Gradient of Linear Regression');\n",
        "print(coefficients)"
      ],
      "execution_count": 0,
      "outputs": [
        {
          "output_type": "stream",
          "text": [
            "[0.50049621 5.29003006]\n"
          ],
          "name": "stdout"
        },
        {
          "output_type": "display_data",
          "data": {
            "image/png": "[encoded data removed]",
            "text/plain": [
              "<matplotlib.figure.Figure at 0x7f3d88e0c320>"
            ]
          },
          "metadata": {
            "tags": []
          }
        }
      ]
    },
    {
      "metadata": {
        "id": "0-GkMuUOEaRt",
        "colab_type": "text"
      },
      "cell_type": "markdown",
      "source": [
        "### Gradient Descent by Partial Derivative\n",
        "\n",
        "The error function $E_{rms} = \\sum{\\sqrt{(\\hat y_i - y_i)^2}}$ is differentiable: that is, we can find the derivative of the error function, which informs us how to update the parameters to minimize it. A model with zero error is perfect.\n",
        "\n",
        "One of the foundations of machine learning is taking the partial derivative of the error function. When the error function is well defined like above, the gradient can be computed analytically. When it is not well defined, it can be computed using the method of finite differences which we studied in week 1. Lets drop the $\\sqrt{}$ to make the derivative easier:\n",
        "\n",
        "$E_{rms} = \\sum{(\\hat y_i - y_i)^2} = \\sum{(mx_i + b - y_i)^2}$\n",
        "\n",
        "We can't drop the $^2$, because that's what makes this a minimization problem.\n",
        "\n",
        "We have two variables $m$ and $b$ that we'd like to solve for:\n",
        "\n",
        "$\\frac{\\partial}{\\partial m} = -2\\sum x(mx_i + b - y)$\n",
        "\n",
        "$\\frac{\\partial}{\\partial b} = -2\\sum (mx_i + b - y)$\n",
        "\n",
        "See\n",
        "* [ML Cheatsheet](http://ml-cheatsheet.readthedocs.io/en/latest/linear_regression.html)\n",
        "\n",
        "and\n",
        "* [MCCormickML](http://mccormickml.com/2014/03/04/gradient-descent-derivation/)"
      ]
    },
    {
      "metadata": {
        "id": "FPmyS_sRPELZ",
        "colab_type": "code",
        "colab": {
          "base_uri": "https://localhost:8080/",
          "height": 382
        },
        "outputId": "9cbfe023-6003-4fae-d2ed-0b221ff1903f"
      },
      "cell_type": "code",
      "source": [
        "def linear_regression(X, y, m_current=0, b_current=0, epochs=30000, learning_rate=0.002):\n",
        "   N = float(len(y))\n",
        "   for i in range(epochs):\n",
        "        y_current = (m_current * X) + b_current\n",
        "        cost = sum([data**2 for data in (y-y_current)]) / N\n",
        "        m_gradient = -(2/N) * sum(X * (y - y_current))\n",
        "        b_gradient = -(2/N) * sum(y - y_current)\n",
        "        m_current = m_current - (learning_rate * m_gradient)\n",
        "        b_current = b_current - (learning_rate * b_gradient)\n",
        "   return m_current, b_current, cost\n",
        "\n",
        "m_solution = linear_regression(x, y)\n",
        "print(m_solution)\n",
        "plt.plot(x,y,'o',marker='.')\n",
        "plt.plot(x,x*solution[0]+solution[1],c='r')\n",
        "plt.plot(x,x*m_solution[0]+m_solution[1],c='y')"
      ],
      "execution_count": 0,
      "outputs": [
        {
          "output_type": "stream",
          "text": [
            "(0.5007814512657849, 5.286769192830868, 10.861689289405522)\n"
          ],
          "name": "stdout"
        },
        {
          "output_type": "execute_result",
          "data": {
            "text/plain": [
              "[<matplotlib.lines.Line2D at 0x7f3d88e870f0>]"
            ]
          },
          "metadata": {
            "tags": []
          },
          "execution_count": 80
        },
        {
          "output_type": "display_data",
          "data": {
            "image/png": "[encoded data removed]",
            "text/plain": [
              "<matplotlib.figure.Figure at 0x7f3d88a1bb70>"
            ]
          },
          "metadata": {
            "tags": []
          }
        }
      ]
    },
    {
      "metadata": {
        "id": "Zb4JB-FoRoET",
        "colab_type": "text"
      },
      "cell_type": "markdown",
      "source": [
        "# Your Assignment\n",
        "\n",
        "Use gradient descent on the Titanic dataset.\n",
        "\n",
        "* 1) Load and clean the data\n",
        "* 1.1) Pay special attention to outliers. How will your model perform with and without outliers?\n",
        "* 2) Identify which features are scalar values\n",
        "* 3) Compute the linear regression of these values (there are only two predictable Y values)\n",
        "* 3.1) Choose a set of features (columns) from Titanic and see which features minimize your RMSE\n",
        "* 4) Report on your RMSE (residual error) for each of the models that you produce.\n",
        "Linear regression works well with univariate data (that is, $dim(x) = 1 \\times n$ and $dim(y) = 1 \\times n$) or with multivariate data: $dim(x)) = m\\times n$. Report your best regression selected from the data in the univariate case and the multivarate case. How do they differ?\n",
        "* 5) Would this RMSE successfully produce good predictions on the Titanic scalar values?"
      ]
    },
    {
      "metadata": {
        "id": "ggFXuIuwRzYz",
        "colab_type": "code",
        "colab": {
          "base_uri": "https://localhost:8080/",
          "height": 34
        },
        "outputId": "9941dbaa-a549-4650-b66f-52eef2b9c61d"
      },
      "cell_type": "code",
      "source": [
        "import numpy as np\n",
        "import pandas as pd\n",
        "import seaborn as sns\n",
        "from sklearn.preprocessing import LabelEncoder\n",
        "titanic = sns.load_dataset('titanic')\n",
        "\n",
        "# drop duplicate/analogous columns\n",
        "titanic = titanic.drop(['alive',\n",
        "                        'adult_male',\n",
        "                        'who',\n",
        "                        'class',\n",
        "                        'embark_town'], axis=1)\n",
        "\n",
        "# take care of missing data\n",
        "titanic['embarked'] = titanic['embarked'].fillna(method='ffill')\n",
        "titanic = titanic.drop(['deck'], axis=1)\n",
        "titanic['age'] = titanic['age'].fillna(method='ffill')\n",
        "\n",
        "# convert binomials and categoricals to encoded labels\n",
        "for label in ['embarked', 'sex', 'alone']:\n",
        "    titanic[label] = LabelEncoder().fit_transform(titanic[label])\n",
        "\n",
        "titanic.head()\n",
        "print(titanic.shape)"
      ],
      "execution_count": 34,
      "outputs": [
        {
          "output_type": "stream",
          "text": [
            "(891, 9)\n"
          ],
          "name": "stdout"
        }
      ]
    },
    {
      "metadata": {
        "id": "qzqhhUTRnRoz",
        "colab_type": "code",
        "colab": {
          "base_uri": "https://localhost:8080/",
          "height": 693
        },
        "outputId": "4b073075-cacb-4ebb-dd74-8c631835c23f"
      },
      "cell_type": "code",
      "source": [
        "from sklearn import linear_model\n",
        "\n",
        "Y_actual_ages = titanic['age']\n",
        "Y_actual_fares = titanic['fare']\n",
        "X_no_ages = titanic.drop(['age'],axis=1)\n",
        "X_no_fares = titanic.drop(['fare'],axis=1)\n",
        "print(Y_actual_ages.head(1))\n",
        "print(Y_actual_fares.head(1))\n",
        "print(X_no_ages.head(1))\n",
        "print(X_no_fares.head(1))\n",
        "\n",
        "# Create linear regression object\n",
        "regr = linear_model.LinearRegression()\n",
        "\n",
        "# Train the model using the training sets\n",
        "regr.fit(X_no_ages, Y_actual_ages)\n",
        "\n",
        "# Make predictions using the testing set\n",
        "titanic_predicted_ages = regr.predict(X_no_ages)\n",
        "\n",
        "#plt.plot(range(len(titanic_predicted_ages)),titanic_predicted_ages,c='g', \\\n",
        "         #marker='.',lineStyle='None')\n",
        "#plt.plot(range(len(titanic_predicted_ages)),Y_actual_ages,c='r', \\\n",
        "        #marker='.',lineStyle='None')\n",
        "\n",
        "plt.show()\n",
        "plt.plot(Y_actual_fares,Y_actual_ages,'o')\n",
        "\n",
        "coefs = np.polyfit(Y_actual_fares,Y_actual_ages,1)\n",
        "regr.fit(Y_actual_fares.reshape(891,1),Y_actual_ages.reshape(891,1))\n",
        "one_dimensional_age_predictions = regr.predict(Y_actual_fares.reshape(-1,1))\n",
        "#print(one_dimensional_age_predictions)\n",
        "\n",
        "#one_dimensional_age_predictions = Y_actual_fares * coefs[0] + coefs[1]\n",
        "\n",
        "\n",
        "regr.fit(Y_actual_fares.reshape(891,1),Y_actual_ages.reshape(891,1))\n",
        "one_dimensional_age_predictions = regr.predict(Y_actual_fares.reshape(-1,1))\n",
        "plt.plot(Y_actual_fares,one_dimensional_age_predictions,'g')\n",
        "print(one_dimensional_age_predictions.shape)\n",
        "print(Y_actual_ages.shape)\n",
        "fare_pred_age_sse = np.sum((one_dimensional_age_predictions-Y_actual_ages.reshape(-1,1))**2)\n",
        "print(fare_pred_age_sse)\n",
        "\n",
        "regr.fit(X_no_ages,Y_actual_ages.reshape(-1,1))\n",
        "full_dimension_age_predictions = regr.predict(X_no_ages)\n",
        "age_pred_sse = np.sum((full_dimension_age_predictions-Y_actual_ages.reshape(-1,1))**2)\n",
        "print(age_pred_sse)\n",
        "\n"
      ],
      "execution_count": 56,
      "outputs": [
        {
          "output_type": "stream",
          "text": [
            "0    22.0\n",
            "Name: age, dtype: float64\n",
            "0    7.25\n",
            "Name: fare, dtype: float64\n",
            "   survived  pclass  sex  sibsp  parch  fare  embarked  alone\n",
            "0         0       3    1      1      0  7.25         2      0\n",
            "   survived  pclass  sex   age  sibsp  parch  embarked  alone\n",
            "0         0       3    1  22.0      1      0         2      0\n",
            "(891, 1)\n",
            "(891,)\n",
            "187222.21622112108\n",
            "158313.75136264856\n"
          ],
          "name": "stdout"
        },
        {
          "output_type": "stream",
          "text": [
            "/usr/local/lib/python3.6/dist-packages/ipykernel_launcher.py:30: FutureWarning: reshape is deprecated and will raise in a subsequent release. Please use .values.reshape(...) instead\n",
            "/usr/local/lib/python3.6/dist-packages/ipykernel_launcher.py:31: FutureWarning: reshape is deprecated and will raise in a subsequent release. Please use .values.reshape(...) instead\n",
            "/usr/local/lib/python3.6/dist-packages/ipykernel_launcher.py:37: FutureWarning: reshape is deprecated and will raise in a subsequent release. Please use .values.reshape(...) instead\n",
            "/usr/local/lib/python3.6/dist-packages/ipykernel_launcher.py:38: FutureWarning: reshape is deprecated and will raise in a subsequent release. Please use .values.reshape(...) instead\n",
            "/usr/local/lib/python3.6/dist-packages/ipykernel_launcher.py:42: FutureWarning: reshape is deprecated and will raise in a subsequent release. Please use .values.reshape(...) instead\n",
            "/usr/local/lib/python3.6/dist-packages/ipykernel_launcher.py:45: FutureWarning: reshape is deprecated and will raise in a subsequent release. Please use .values.reshape(...) instead\n",
            "/usr/local/lib/python3.6/dist-packages/ipykernel_launcher.py:47: FutureWarning: reshape is deprecated and will raise in a subsequent release. Please use .values.reshape(...) instead\n"
          ],
          "name": "stderr"
        },
        {
          "output_type": "display_data",
          "data": {
            "image/png": "[encoded data removed]",
            "text/plain": [
              "<matplotlib.figure.Figure at 0x7ff647971390>"
            ]
          },
          "metadata": {
            "tags": []
          }
        }
      ]
    },
    {
      "metadata": {
        "id": "3pyTHVr2F7qN",
        "colab_type": "text"
      },
      "cell_type": "markdown",
      "source": [
        "## Stretch Goal\n",
        "\n",
        "Lets get started on Kaggle.\n",
        "\n",
        "[House Prices Advanced Regression](https://www.kaggle.com/c/house-prices-advanced-regression-techniques/data)\n",
        "\n",
        "Sign up to compete, and download the dataset! The Zillow data contains a huge number of columns. Spend an hour or two studying the data, cleaning it, and configuring it, then work to use `polyfit` (remember, it is your first ML model) to make predictions about the final column `SalePrice`.\n"
      ]
    },
    {
      "metadata": {
        "id": "FgT8j7qRHpIU",
        "colab_type": "text"
      },
      "cell_type": "markdown",
      "source": [
        "# Thinking about your assignment\n",
        "\n",
        "1. What am I being asked to do?\n",
        "2. What coding steps need to be taken to satisfy the problem?\n",
        "3. What must I do to claim that I have \"completed\" the assignment?"
      ]
    },
    {
      "metadata": {
        "id": "DSI0PcHMHwQq",
        "colab_type": "text"
      },
      "cell_type": "markdown",
      "source": [
        "# Why is Regression Prediction?\n",
        "\n"
      ]
    },
    {
      "metadata": {
        "id": "SZUTTiGhwxJK",
        "colab_type": "code",
        "colab": {
          "base_uri": "https://localhost:8080/",
          "height": 161
        },
        "outputId": "fa6dd96e-71ad-4142-bb74-f23eba177bc1"
      },
      "cell_type": "code",
      "source": [
        "def f(x):\n",
        "  return 0.595*x + 2.16\n",
        "plot_two()\n",
        "xs = np.linspace(0,10,11)\n",
        "plt.plot(xs,f(xs),c='g');"
      ],
      "execution_count": 6,
      "outputs": [
        {
          "output_type": "display_data",
          "data": {
            "image/png": "[encoded data removed]",
            "text/plain": [
              "<matplotlib.figure.Figure at 0x7ff64b9316a0>"
            ]
          },
          "metadata": {
            "tags": []
          }
        }
      ]
    },
    {
      "metadata": {
        "id": "zupwiODtkAvT",
        "colab_type": "code",
        "colab": {}
      },
      "cell_type": "code",
      "source": [
        ""
      ],
      "execution_count": 0,
      "outputs": []
    }
  ]
}