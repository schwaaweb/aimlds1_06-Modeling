{
 "cells": [
  {
   "cell_type": "markdown",
   "metadata": {
    "colab_type": "text",
    "id": "view-in-github"
   },
   "source": [
    "[Lecture 0](https://youtu.be/i9dAZWN1vug)\n",
    "\n",
    "\n",
    "\n",
    "[View in Colaboratory](https://colab.research.google.com/github/schwaaweb/aimlds1_06-TheMachineLearningFramework/blob/master/M06_CC--DJ--Regression_Coding_Challenge.ipynb)"
   ]
  },
  {
   "cell_type": "markdown",
   "metadata": {
    "colab_type": "text",
    "id": "26Hu16rW8wQE"
   },
   "source": [
    "# Linear Regression by Hand\n",
    "\n",
    "In this challenge we'll be doing a linear fit with just one input variable and one output. We'll assume that our data can be modeled way using the function y = ax + b for some values of a and b. Your job is to find the best values of a and b, the ones that make our model best fit the data. First, let's import the libraries we'll need."
   ]
  },
  {
   "cell_type": "code",
   "execution_count": 1,
   "metadata": {
    "colab": {},
    "colab_type": "code",
    "id": "h7696CDz9tGR"
   },
   "outputs": [],
   "source": [
    "# LAMBDA SCHOOL\n",
    "# \n",
    "# MACHINE LEARNING\n",
    "#\n",
    "# MIT LICENSE\n",
    "\n",
    "import numpy as np\n",
    "import pandas as pd\n",
    "import requests\n",
    "import io\n",
    "import matplotlib.pyplot as plt"
   ]
  },
  {
   "cell_type": "markdown",
   "metadata": {
    "colab_type": "text",
    "id": "eD1cGbMs9yk5"
   },
   "source": [
    "Now let's grab the data. This is a fictional data set made for the purpose of this exercise."
   ]
  },
  {
   "cell_type": "code",
   "execution_count": 2,
   "metadata": {
    "colab": {},
    "colab_type": "code",
    "id": "XnAd89f58y8W"
   },
   "outputs": [],
   "source": [
    "url=\"https://raw.githubusercontent.com/mathewphilipc/LambdaDataSets/master/linear_data.csv\"\n",
    "s=requests.get(url).content\n",
    "data=pd.read_csv(io.StringIO(s.decode('utf-8')))"
   ]
  },
  {
   "cell_type": "markdown",
   "metadata": {
    "colab_type": "text",
    "id": "0zdgNbNO88uQ"
   },
   "source": [
    "Your first job is to visit that URL and poke around in the data. However you wish to do so, store the first column as a vector x and store the second column as a vector y. We'll think of x as the input and y as the output."
   ]
  },
  {
   "cell_type": "code",
   "execution_count": 7,
   "metadata": {
    "colab": {},
    "colab_type": "code",
    "id": "w8Ffm5E59Bdp"
   },
   "outputs": [
    {
     "data": {
      "image/png": "[encoded data removed]",
      "text/plain": [
       "<matplotlib.figure.Figure at 0x1145353c8>"
      ]
     },
     "metadata": {},
     "output_type": "display_data"
    },
    {
     "data": {
      "image/png": "[encoded data removed]",
      "text/plain": [
       "<matplotlib.figure.Figure at 0x1146e05c0>"
      ]
     },
     "metadata": {},
     "output_type": "display_data"
    }
   ],
   "source": [
    "# You do: x and y\n",
    "data['x'].hist()\n",
    "plt.show()\n",
    "data['y'].hist()\n",
    "x = np.array(data['x'])\n",
    "y = np.array(data['y'])\n",
    "\n"
   ]
  },
  {
   "cell_type": "markdown",
   "metadata": {
    "colab_type": "text",
    "id": "htfp2VfW9DbZ"
   },
   "source": [
    "We also like to start by getting a sense of this data, so next let's make a scatterplot."
   ]
  },
  {
   "cell_type": "code",
   "execution_count": 20,
   "metadata": {
    "colab": {},
    "colab_type": "code",
    "id": "j9GZsZnF9C4-"
   },
   "outputs": [
    {
     "data": {
      "image/png": "[encoded data removed]",
      "text/plain": [
       "<matplotlib.figure.Figure at 0x1147b5358>"
      ]
     },
     "metadata": {},
     "output_type": "display_data"
    }
   ],
   "source": [
    "plt.scatter(x, y, alpha=0.5);"
   ]
  },
  {
   "cell_type": "markdown",
   "metadata": {
    "colab_type": "text",
    "id": "ggMoG5Rl9Mt6"
   },
   "source": [
    "Now here's the fun part: whenever we model data like this using a function f(x), we like to compute the \"SSE\", or \"sum of squared errors.\"\n",
    "\n",
    "This means that, for every input number x_i, we calculate both the actual corresponding output y_i and the output the model predicts, which is f(x_i).\n",
    "\n",
    "We can quantify how badly the model did at predicting that point by calculating the square of the difference between the two: error_i = (y_i - f(x_i))^2.\n",
    "\n",
    "Then we can quantify how badly the model did at all points by computing that squared difference for every indidividual point and adding them all up. Remember bigger = worse here.\n",
    "\n",
    "Calculate the SSE (call it particular_SSE) we would get if we used the linear model f(x) = ax + b with a = 20 and b = 70."
   ]
  },
  {
   "cell_type": "code",
   "execution_count": 12,
   "metadata": {
    "colab": {},
    "colab_type": "code",
    "id": "CYuLrfuZ9Oce"
   },
   "outputs": [
    {
     "data": {
      "text/plain": [
       "1767473752.7133842"
      ]
     },
     "execution_count": 12,
     "metadata": {},
     "output_type": "execute_result"
    }
   ],
   "source": [
    "# What is SSE for a = 20, b = 70?\n",
    "((y-(20*x+70))**2).sum()\n"
   ]
  },
  {
   "cell_type": "markdown",
   "metadata": {
    "colab_type": "text",
    "id": "fz0ulDtq9Xpz"
   },
   "source": [
    "Now here's the really fun part: write a function error(a,b) that takes in the numbers a and b as inputs and calculates the SSE we would get using the model f(x) = ax + b."
   ]
  },
  {
   "cell_type": "code",
   "execution_count": 15,
   "metadata": {
    "colab": {},
    "colab_type": "code",
    "id": "VibdgcL_9ZOF"
   },
   "outputs": [
    {
     "data": {
      "text/plain": [
       "1767473752.7133842"
      ]
     },
     "execution_count": 15,
     "metadata": {},
     "output_type": "execute_result"
    }
   ],
   "source": [
    "def error(a,b):\n",
    "    SSE = ((y-((a*x)+b))**2).sum()\n",
    "    return SSE\n",
    "\n",
    "error(20,70)"
   ]
  },
  {
   "cell_type": "markdown",
   "metadata": {
    "colab_type": "text",
    "id": "dYeryMWo9d3e"
   },
   "source": [
    "Earlier we calculated error(a,b) when a = 20 and b = 70. What happens to the error if you replace that with a = 21? Does the error go up or down? What about if we replace a = 20 with a = 19 instead? What if we start tweaking b as well? However you want to do so, tweak a and b to make the SSE as small as possible. Report back with the a and b that you find and the corresponding SSE."
   ]
  },
  {
   "cell_type": "code",
   "execution_count": 22,
   "metadata": {
    "colab": {},
    "colab_type": "code",
    "id": "bN7NkLKJ9ihD"
   },
   "outputs": [
    {
     "name": "stdout",
     "output_type": "stream",
     "text": [
      "\n",
      " 1975730995.1321166 \n",
      " 1767473752.7133842\n",
      "\n",
      " 208257242.4187324\n"
     ]
    }
   ],
   "source": [
    "# a, b, SSE? How'd you get it?\n",
    "\n",
    "print('\\n',error(21,70),'\\n',error(20,70))\n",
    "print('\\n',error(21,70)-error(20,70))"
   ]
  },
  {
   "cell_type": "code",
   "execution_count": 23,
   "metadata": {},
   "outputs": [
    {
     "name": "stdout",
     "output_type": "stream",
     "text": [
      "\n",
      " 1570813144.0690742 \n",
      " 1767473752.7133842\n",
      "\n",
      " -196660608.64431\n"
     ]
    }
   ],
   "source": [
    "print('\\n',error(19,70),'\\n',error(20,70))\n",
    "print('\\n',error(19,70)-error(20,70))"
   ]
  },
  {
   "cell_type": "code",
   "execution_count": 24,
   "metadata": {},
   "outputs": [
    {
     "name": "stdout",
     "output_type": "stream",
     "text": [
      "\n",
      " 1212281828.1037223\n"
     ]
    }
   ],
   "source": [
    "print('\\n', error(17,70))"
   ]
  },
  {
   "cell_type": "code",
   "execution_count": 39,
   "metadata": {},
   "outputs": [
    {
     "data": {
      "image/png": "[encoded data removed]",
      "text/plain": [
       "<matplotlib.figure.Figure at 0x114c8c128>"
      ]
     },
     "metadata": {},
     "output_type": "display_data"
    }
   ],
   "source": [
    "az = np.linspace(17,0,100)\n",
    "\n",
    "def aerror(az):\n",
    "    SSEz = []\n",
    "    for a in az:\n",
    "        SSEz.append(error(a,70))\n",
    "        \n",
    "    return SSEz\n",
    "\n",
    "nuerror = aerror(az)\n",
    "#for n in az:\n",
    "#    print(n)\n",
    "\n",
    "plt.scatter(np.linspace(85,90,100), nuerror, alpha=0.5);\n",
    "    \n"
   ]
  },
  {
   "cell_type": "code",
   "execution_count": null,
   "metadata": {},
   "outputs": [],
   "source": []
  }
 ],
 "metadata": {
  "colab": {
   "collapsed_sections": [],
   "name": "Regression Coding Challenge.ipynb",
   "provenance": [],
   "version": "0.3.2"
  },
  "kernelspec": {
   "display_name": "Python 3",
   "language": "python",
   "name": "python3"
  },
  "language_info": {
   "codemirror_mode": {
    "name": "ipython",
    "version": 3
   },
   "file_extension": ".py",
   "mimetype": "text/x-python",
   "name": "python",
   "nbconvert_exporter": "python",
   "pygments_lexer": "ipython3",
   "version": "3.6.4"
  }
 },
 "nbformat": 4,
 "nbformat_minor": 2
}
