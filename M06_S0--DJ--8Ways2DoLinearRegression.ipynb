{
 "cells": [
  {
   "cell_type": "markdown",
   "metadata": {},
   "source": [
    "# 8 Ways to do Linear Regression\n",
    "\n",
    "[Article](https://medium.freecodecamp.org/data-science-with-python-8-ways-to-do-linear-regression-and-measure-their-speed-b5577d75f8b)\n",
    "\n",
    "\n",
    "\n",
    "[GitHub](https://github.com/tirthajyoti/PythonMachineLearning/blob/master/Linear_Regression_Methods.ipynb)\n"
   ]
  },
  {
   "cell_type": "code",
   "execution_count": 2,
   "metadata": {},
   "outputs": [],
   "source": [
    "from scipy import linspace, polyval, polyfit, sqrt, stats, randn, optimize\n",
    "import statsmodels.api as sm\n",
    "import matplotlib.pyplot as plt\n",
    "import time\n",
    "import numpy as np\n",
    "from sklearn.linear_model import LinearRegression\n",
    "import pandas as pd\n"
   ]
  },
  {
   "cell_type": "markdown",
   "metadata": {},
   "source": [
    "### Generate random data of a sufficiently large size"
   ]
  },
  {
   "cell_type": "code",
   "execution_count": 5,
   "metadata": {},
   "outputs": [],
   "source": [
    "# Sample data creation\n",
    "\n",
    "# number of points\n",
    "n = int(5e6)\n",
    "t = np.linspace(-10,10,n) # ****\n",
    "\n",
    "# parameters\n",
    "a = 3.25; b = -6.5\n",
    "x = polyval([a,b],t)\n",
    "\n",
    "# add some noise\n",
    "xn = x+3*randn(n) # ****\n"
   ]
  },
  {
   "cell_type": "markdown",
   "metadata": {},
   "source": [
    "### Draw few random sample points and plot"
   ]
  },
  {
   "cell_type": "code",
   "execution_count": 7,
   "metadata": {},
   "outputs": [
    {
     "data": {
      "image/png": "[encoded data removed]",
      "text/plain": [
       "<matplotlib.figure.Figure at 0x1c0abc0630>"
      ]
     },
     "metadata": {},
     "output_type": "display_data"
    }
   ],
   "source": [
    "xvar = np.random.choice(t,size=20)\n",
    "yvar = polyval([a,b], xvar)+3*randn(20)\n",
    "plt.scatter(xvar,yvar,c='g',edgecolors='k');\n",
    "plt.grid(True)\n",
    "plt.show()"
   ]
  },
  {
   "cell_type": "markdown",
   "metadata": {},
   "source": [
    "## Method 1 :: Scipy.Polyfit"
   ]
  },
  {
   "cell_type": "code",
   "execution_count": 11,
   "metadata": {},
   "outputs": [
    {
     "name": "stdout",
     "output_type": "stream",
     "text": [
      "Linear regression using polyfit\n",
      "parameters: a=3.25 b=-6.50, ms error= 3.000\n",
      "Time taken: 2.262957811355591 seconds\n"
     ]
    }
   ],
   "source": [
    "#Linear regression -polyfit - polyfit can be used on other orders of polynomials\n",
    "t1=time.time()\n",
    "(ar,br)=polyfit(t,xn,1)\n",
    "xr=polyval([ar,br],t)\n",
    "\n",
    "# compute the mean square error\n",
    "err=sqrt(sum((xr-xn)**2)/n)\n",
    "t2=time.time()\n",
    "t_polyfit = float(t2-t1)\n",
    "\n",
    "print('Linear regression using polyfit')\n",
    "print('parameters: a=%.2f b=%.2f, ms error= %.3f' % (ar,br,err))\n",
    "print(\"Time taken: {} seconds\".format(t_polyfit))"
   ]
  },
  {
   "cell_type": "markdown",
   "metadata": {},
   "source": [
    "## Method 2 :: Stats.linregress\n",
    "\n",
    "this is a highly specialized method in that it is can only take 2 dimensions eg. x & y\n",
    "but it is highly optimized and runs faster than most other methods\n",
    "\n"
   ]
  },
  {
   "cell_type": "code",
   "execution_count": 14,
   "metadata": {},
   "outputs": [
    {
     "name": "stdout",
     "output_type": "stream",
     "text": [
      "Linear regression using stats.llinregress\n",
      "a=3.25 b=-6.50, std erro = 0.000, r^2 coefficient= 0.987\n",
      "Time taken: 0.26354479789733887 seconds\n"
     ]
    }
   ],
   "source": [
    "#Linear regression using stats.linregress\n",
    "t1=time.time()\n",
    "(a_s, b_s, r, tt, stderr) = stats.linregress(t,xn)\n",
    "t2=time.time()\n",
    "t_linregress = float(t2-t1)\n",
    "\n",
    "print('Linear regression using stats.llinregress')\n",
    "print('a=%.2f b=%.2f, std erro = %.3f, r^2 coefficient= %.3f' % (a_s, b_s, stderr, r))\n",
    "print(\"Time taken: {} seconds\".format(t_linregress))"
   ]
  },
  {
   "cell_type": "markdown",
   "metadata": {},
   "source": [
    "## Method 3 :: Optimize.curve_fit\n",
    "\n",
    "This is similar to polyfit, but more general in nature.\n",
    "It has run a little bit slower than the polyfit function on the same data."
   ]
  },
  {
   "cell_type": "code",
   "execution_count": 29,
   "metadata": {},
   "outputs": [],
   "source": [
    "def flin(t,a,b):\n",
    "    result = a*t+b\n",
    "    return(result)"
   ]
  },
  {
   "cell_type": "code",
   "execution_count": 30,
   "metadata": {},
   "outputs": [
    {
     "name": "stdout",
     "output_type": "stream",
     "text": [
      "Linear regression using optimize.curve_fit\n",
      "parameters: a=3.25 b=-6.50\n",
      "Time taken: 2.628856897354126 seconds\n",
      "\n",
      " [ 3.24996137 -6.50005629] \n",
      " [[ 5.39922206e-08 -4.94363690e-20]\n",
      " [-4.94363690e-20  1.79974143e-06]]\n"
     ]
    }
   ],
   "source": [
    "t1=time.time()\n",
    "p1=optimize.curve_fit(flin,xdata=t,ydata=xn,method='lm')\n",
    "t2=time.time()\n",
    "t_optimize_curve_fit = float(t2-t1)\n",
    "\n",
    "print('Linear regression using optimize.curve_fit')\n",
    "print('parameters: a=%.2f b=%.2f' % (p1[0][0],p1[0][1]))\n",
    "print(\"Time taken: {} seconds\".format(t_optimize_curve_fit))\n",
    "print('\\n',p1[0],'\\n',p1[1])"
   ]
  },
  {
   "cell_type": "markdown",
   "metadata": {},
   "source": [
    "## Method 4 :: NumPY.linalg.lstsq\n",
    "\n",
    "least square solution to a matrix equation"
   ]
  },
  {
   "cell_type": "code",
   "execution_count": 33,
   "metadata": {},
   "outputs": [
    {
     "name": "stderr",
     "output_type": "stream",
     "text": [
      "/Users/darwinm/anaconda3/lib/python3.6/site-packages/ipykernel_launcher.py:3: FutureWarning: `rcond` parameter will change to the default of machine precision times ``max(M, N)`` where M and N are the input matrix dimensions.\n",
      "To use the future default and silence this warning we advise to pass `rcond=None`, to keep using the old, explicitly pass `rcond=-1`.\n",
      "  This is separate from the ipykernel package so we can avoid doing imports until\n"
     ]
    }
   ],
   "source": [
    "t1 = time.time()\n",
    "A = np.vstack([t, np.ones(len(t))]).T\n",
    "result = np.linalg.lstsq(A, xn)\n",
    "ar, br = result[0]\n",
    "err = np.sqrt(result[1]/len(xn))\n",
    "t2 = time.time()\n",
    "t_linalg_lstsq = float(t2-t1)\n",
    "\n"
   ]
  },
  {
   "cell_type": "code",
   "execution_count": null,
   "metadata": {},
   "outputs": [],
   "source": []
  }
 ],
 "metadata": {
  "kernelspec": {
   "display_name": "Python 3",
   "language": "python",
   "name": "python3"
  },
  "language_info": {
   "codemirror_mode": {
    "name": "ipython",
    "version": 3
   },
   "file_extension": ".py",
   "mimetype": "text/x-python",
   "name": "python",
   "nbconvert_exporter": "python",
   "pygments_lexer": "ipython3",
   "version": "3.6.4"
  }
 },
 "nbformat": 4,
 "nbformat_minor": 2
}
