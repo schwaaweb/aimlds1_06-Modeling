{
  "nbformat": 4,
  "nbformat_minor": 0,
  "metadata": {
    "colab": {
      "name": "RMSE for 10 year old.ipynb",
      "version": "0.3.2",
      "provenance": []
    },
    "kernelspec": {
      "name": "python3",
      "display_name": "Python 3"
    }
  },
  "cells": [
    {
      "cell_type": "markdown",
      "metadata": {
        "id": "view-in-github",
        "colab_type": "text"
      },
      "source": [
        "[View in Colaboratory](https://colab.research.google.com/github/schwaaweb/aimlds1_06-TheMachineLearningFramework/blob/master/M06_SU0--NJ--RMSE_for_10_year_old.ipynb)"
      ]
    },
    {
      "metadata": {
        "id": "1SAdzoOi20mC",
        "colab_type": "text"
      },
      "cell_type": "markdown",
      "source": [
        "## Lets say you are playing a Car Racing video game - you have to drive on a road and collect coins lying on it\n",
        "\n",
        "1. Each time you miss a coin, we note down how far were you from the coin\n",
        "2. At the end of the road, we average up how much you missed by, over all those coins\n",
        "\n",
        "And **kid**, that is your Root Mean Square Error (RMSE)"
      ]
    },
    {
      "metadata": {
        "id": "CiaSS2Yp-1p3",
        "colab_type": "text"
      },
      "cell_type": "markdown",
      "source": [
        "### Road with coins"
      ]
    },
    {
      "metadata": {
        "id": "FW1RoTnj2wP6",
        "colab_type": "code",
        "colab": {},
        "outputId": "6306841b-838d-4080-b126-e4400172ba2e"
      },
      "cell_type": "code",
      "source": [
        "import numpy as np\n",
        "import matplotlib.pyplot as plt\n",
        "import seaborn as sns\n",
        "sns.set(style='white')\n",
        "\n",
        "coins = np.random.multivariate_normal([15,15], [[12,6], [1,6]], 50)\n",
        "plt.scatter(*coins.T, c='gold')\n",
        "plt.xlim(0,25)\n",
        "plt.ylim(0,50)\n",
        "plt.xticks([])\n",
        "plt.yticks([])\n",
        "plt.axis('off')\n",
        "\n",
        "def f2(x):\n",
        "  return p2[0] * x + p2[1]\n",
        "\n",
        "x, y = coins.T\n",
        "p2 = np.polyfit(x,y,1)\n",
        "nx = np.linspace(0,25,26)\n",
        "plt.plot(nx,f2(nx)+10,c='black');\n",
        "plt.plot(nx,f2(nx)-10,c='black');"
      ],
      "execution_count": 0,
      "outputs": []
    }
  ]
}