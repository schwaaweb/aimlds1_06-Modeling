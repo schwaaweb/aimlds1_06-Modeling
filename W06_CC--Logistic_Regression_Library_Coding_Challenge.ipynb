{
 "cells": [
  {
   "cell_type": "markdown",
   "metadata": {
    "colab_type": "text",
    "id": "view-in-github"
   },
   "source": [
    "[View in Colaboratory](https://colab.research.google.com/github/schwaaweb/aimlds1_06-TheMachineLearningFramework/blob/master/W06_CC--Logistic_Regression_Library_Coding_Challenge.ipynb)"
   ]
  },
  {
   "cell_type": "markdown",
   "metadata": {
    "colab_type": "text",
    "id": "6d-s2xCt9GNa"
   },
   "source": [
    "# Separating classes with Logistic Regression\n",
    "\n",
    "## Logistic Regression classifies\n",
    "\n",
    "Linear regression makes a prediction: if `y = mx + b`. Logistic regression produces a probability, an estimate that `y` is either `0` or `1`.\n",
    "\n",
    "Consider the following dataset:"
   ]
  },
  {
   "cell_type": "code",
   "execution_count": 2,
   "metadata": {
    "colab": {
     "base_uri": "https://localhost:8080/",
     "height": 223
    },
    "colab_type": "code",
    "id": "CEir2hIh8-fs",
    "outputId": "1ad2426f-7bd3-4437-a0ee-8a2dc80d4b84"
   },
   "outputs": [
    {
     "name": "stdout",
     "output_type": "stream",
     "text": [
      "    x  y\n",
      "0   3  1\n",
      "1   0  0\n",
      "2   5  1\n",
      "3   2  0\n",
      "4   1  0\n",
      "5   0  0\n",
      "6   0  0\n",
      "7   5  1\n",
      "8   6  1\n",
      "9   4  0\n",
      "10  1  0\n"
     ]
    }
   ],
   "source": [
    "# LAMBDA SCHOOL\n",
    "# \n",
    "# MACHINE LEARNING\n",
    "#\n",
    "# MIT LICENSE\n",
    "\n",
    "import numpy as np\n",
    "import pandas as pd\n",
    "import matplotlib.pyplot as plt\n",
    "\n",
    "data = pd.DataFrame()\n",
    "data['x'] = np.array([3,0,5,2,1,0,0,5,6,4,1])\n",
    "data['y'] = np.array([1,0,1,0,0,0,0,1,1,0,0])\n",
    "print(data)"
   ]
  },
  {
   "cell_type": "code",
   "execution_count": 17,
   "metadata": {
    "colab": {
     "base_uri": "https://localhost:8080/",
     "height": 211
    },
    "colab_type": "code",
    "id": "d9CLPDb69bVD",
    "outputId": "7e773993-c7cc-401c-93ac-0f76b66f007c"
   },
   "outputs": [
    {
     "data": {
      "image/png": "[encoded data removed]",
      "text/plain": [
       "<matplotlib.figure.Figure at 0x7ff1e8ab3ac8>"
      ]
     },
     "metadata": {
      "tags": []
     },
     "output_type": "display_data"
    }
   ],
   "source": [
    "from sklearn.linear_model import LogisticRegression\n",
    "regr = LogisticRegression()\n",
    "regr.fit(data['x'].values.reshape(-1,1),data['y'].ravel())\n",
    "y_hat = regr.predict(data['x'].values.reshape(-1,1))\n",
    "\n",
    "plt.figure(figsize=(4,3))\n",
    "plt.plot(data['x'],data['y'],'.')\n",
    "\n",
    "smooth_x = np.linspace(0,6,30)\n",
    "p = regr.coef_[0] * smooth_x + regr.intercept_\n",
    "p = 1/(1+np.exp(-p))\n",
    "plt.plot(smooth_x,p,'g');"
   ]
  },
  {
   "cell_type": "markdown",
   "metadata": {
    "colab_type": "text",
    "id": "SPYsTs9NLxPp"
   },
   "source": [
    "In the above, the blue dots are the samples, and the green is the line of probability predicted by the logistic regression. When the logistic regression estimate `p(x) < 0.5, `y = 0`. When `p(x) >= 0.5`, `y = 1`. The next graph shows the prediction of the estimator: "
   ]
  },
  {
   "cell_type": "code",
   "execution_count": 19,
   "metadata": {
    "colab": {
     "base_uri": "https://localhost:8080/",
     "height": 211
    },
    "colab_type": "code",
    "id": "uOp80Shb9zwk",
    "outputId": "45235949-7d79-4b81-827e-f5dac46f9351"
   },
   "outputs": [
    {
     "data": {
      "image/png": "[encoded data removed]",
      "text/plain": [
       "<matplotlib.figure.Figure at 0x7ff1e8a39748>"
      ]
     },
     "metadata": {
      "tags": []
     },
     "output_type": "display_data"
    }
   ],
   "source": [
    "plt.figure(figsize=(4,3))\n",
    "plt.plot(data['x'],regr.predict(data['x'].values.reshape(-1,1)),'or');"
   ]
  },
  {
   "cell_type": "markdown",
   "metadata": {
    "colab_type": "text",
    "id": "vJP3OazgM0S0"
   },
   "source": [
    "### Challenge\n",
    "\n",
    "Load the Motor Trend cars dataset at `https://www.dropbox.com/s/itcg6srrzn5u3fj/mtcars.csv?raw=1` and use the `fit` and `predict` functions of `sklearn.linear_model.LogisticRegression` to predict the two binomial columns from that dataset: `vs` and `am`. You choose which feature columns to use.\n",
    "\n",
    "### Stretch goal\n",
    "\n",
    "After fitting the model to predict `vs` and `am` on your chosen features, duplicate the above code that draws the sigmoid prediction function using `smooth_x`, `coef_`, and `intercept_`."
   ]
  },
  {
   "cell_type": "code",
   "execution_count": null,
   "metadata": {
    "colab": {},
    "colab_type": "code",
    "id": "ldDwipy2M16A"
   },
   "outputs": [],
   "source": [
    "# Solve the coding challenge here."
   ]
  }
 ],
 "metadata": {
  "colab": {
   "collapsed_sections": [],
   "name": "Logistic Regression Library Coding Challenge.ipynb",
   "provenance": [],
   "version": "0.3.2"
  },
  "kernelspec": {
   "display_name": "Python 3",
   "language": "python",
   "name": "python3"
  },
  "language_info": {
   "codemirror_mode": {
    "name": "ipython",
    "version": 3
   },
   "file_extension": ".py",
   "mimetype": "text/x-python",
   "name": "python",
   "nbconvert_exporter": "python",
   "pygments_lexer": "ipython3",
   "version": "3.6.4"
  }
 },
 "nbformat": 4,
 "nbformat_minor": 2
}
